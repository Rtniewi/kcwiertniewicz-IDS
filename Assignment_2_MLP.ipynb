{
  "cells": [
    {
      "cell_type": "markdown",
      "metadata": {
        "id": "view-in-github",
        "colab_type": "text"
      },
      "source": [
        "<a href=\"https://colab.research.google.com/github/Rtniewi/kcwiertniewicz-IDS/blob/main/Assignment_2_MLP.ipynb\" target=\"_parent\"><img src=\"https://colab.research.google.com/assets/colab-badge.svg\" alt=\"Open In Colab\"/></a>"
      ]
    },
    {
      "cell_type": "markdown",
      "source": [
        "//***Katrina Cwiertniewicz\n",
        "//*** CSC 330\n",
        "//9/26/2024\n",
        "//Assignment 2: MLP Model\n",
        "####The purpose of this assignment is to compare the performance of a simple Multi_Layer Perceptron (MLP) and a Convolutional Neural Network (CNN) using strides of the CIFAR-10 dataset.\n"
      ],
      "metadata": {
        "id": "bLoEyL1ns9ir"
      }
    },
    {
      "cell_type": "code",
      "execution_count": null,
      "metadata": {
        "id": "eBQMvmLmY6Vf"
      },
      "outputs": [],
      "source": [
        "import numpy as no\n",
        "import matplotlib.pyplot as plt\n",
        "\n",
        "from tensorflow.keras import layers, models, optimizers, utils, datasets"
      ]
    },
    {
      "cell_type": "code",
      "execution_count": null,
      "metadata": {
        "id": "Zd2xXabsZagY"
      },
      "outputs": [],
      "source": [
        "NUM_CLASSES = 10"
      ]
    },
    {
      "cell_type": "markdown",
      "metadata": {
        "id": "xAK4c7dOZc2T"
      },
      "source": [
        "## 1. Prepare the Data <a name=\"parameters\"></a>\n",
        "CIFAR-10 dataset is loaded and noramlized by dividing by 255.0."
      ]
    },
    {
      "cell_type": "code",
      "execution_count": null,
      "metadata": {
        "id": "KXsJwhXcZinS"
      },
      "outputs": [],
      "source": [
        "(x_train, y_train), (x_test, y_test) = datasets.cifar10.load_data()"
      ]
    },
    {
      "cell_type": "code",
      "execution_count": null,
      "metadata": {
        "id": "Edm8mKI9s8Wq"
      },
      "outputs": [],
      "source": [
        "x_train = x_train.astype(\"float32\") / 255.0\n",
        "x_test = x_test.astype(\"float32\") / 255.0\n"
      ]
    },
    {
      "cell_type": "code",
      "execution_count": null,
      "metadata": {
        "colab": {
          "base_uri": "https://localhost:8080/",
          "height": 1000
        },
        "collapsed": true,
        "id": "op5-uAQZs8Wq",
        "outputId": "e2d784e3-d0bc-402b-ea39-cb3a29eb6855"
      },
      "outputs": [
        {
          "output_type": "display_data",
          "data": {
            "text/plain": [
              "array([[[[0.23137255, 0.24313726, 0.24705882],\n",
              "         [0.16862746, 0.18039216, 0.1764706 ],\n",
              "         [0.19607843, 0.1882353 , 0.16862746],\n",
              "         ...,\n",
              "         [0.61960787, 0.5176471 , 0.42352942],\n",
              "         [0.59607846, 0.49019608, 0.4       ],\n",
              "         [0.5803922 , 0.4862745 , 0.40392157]],\n",
              "\n",
              "        [[0.0627451 , 0.07843138, 0.07843138],\n",
              "         [0.        , 0.        , 0.        ],\n",
              "         [0.07058824, 0.03137255, 0.        ],\n",
              "         ...,\n",
              "         [0.48235294, 0.34509805, 0.21568628],\n",
              "         [0.46666667, 0.3254902 , 0.19607843],\n",
              "         [0.47843137, 0.34117648, 0.22352941]],\n",
              "\n",
              "        [[0.09803922, 0.09411765, 0.08235294],\n",
              "         [0.0627451 , 0.02745098, 0.        ],\n",
              "         [0.19215687, 0.10588235, 0.03137255],\n",
              "         ...,\n",
              "         [0.4627451 , 0.32941177, 0.19607843],\n",
              "         [0.47058824, 0.32941177, 0.19607843],\n",
              "         [0.42745098, 0.28627452, 0.16470589]],\n",
              "\n",
              "        ...,\n",
              "\n",
              "        [[0.8156863 , 0.6666667 , 0.3764706 ],\n",
              "         [0.7882353 , 0.6       , 0.13333334],\n",
              "         [0.7764706 , 0.6313726 , 0.10196079],\n",
              "         ...,\n",
              "         [0.627451  , 0.52156866, 0.27450982],\n",
              "         [0.21960784, 0.12156863, 0.02745098],\n",
              "         [0.20784314, 0.13333334, 0.07843138]],\n",
              "\n",
              "        [[0.7058824 , 0.54509807, 0.3764706 ],\n",
              "         [0.6784314 , 0.48235294, 0.16470589],\n",
              "         [0.7294118 , 0.5647059 , 0.11764706],\n",
              "         ...,\n",
              "         [0.72156864, 0.5803922 , 0.36862746],\n",
              "         [0.38039216, 0.24313726, 0.13333334],\n",
              "         [0.3254902 , 0.20784314, 0.13333334]],\n",
              "\n",
              "        [[0.69411767, 0.5647059 , 0.45490196],\n",
              "         [0.65882355, 0.5058824 , 0.36862746],\n",
              "         [0.7019608 , 0.5568628 , 0.34117648],\n",
              "         ...,\n",
              "         [0.84705883, 0.72156864, 0.54901963],\n",
              "         [0.5921569 , 0.4627451 , 0.32941177],\n",
              "         [0.48235294, 0.36078432, 0.28235295]]],\n",
              "\n",
              "\n",
              "       [[[0.6039216 , 0.69411767, 0.73333335],\n",
              "         [0.49411765, 0.5372549 , 0.53333336],\n",
              "         [0.4117647 , 0.40784314, 0.37254903],\n",
              "         ...,\n",
              "         [0.35686275, 0.37254903, 0.2784314 ],\n",
              "         [0.34117648, 0.3529412 , 0.2784314 ],\n",
              "         [0.30980393, 0.31764707, 0.27450982]],\n",
              "\n",
              "        [[0.54901963, 0.627451  , 0.6627451 ],\n",
              "         [0.5686275 , 0.6       , 0.6039216 ],\n",
              "         [0.49019608, 0.49019608, 0.4627451 ],\n",
              "         ...,\n",
              "         [0.3764706 , 0.3882353 , 0.30588236],\n",
              "         [0.3019608 , 0.3137255 , 0.24313726],\n",
              "         [0.2784314 , 0.28627452, 0.23921569]],\n",
              "\n",
              "        [[0.54901963, 0.60784316, 0.6431373 ],\n",
              "         [0.54509807, 0.57254905, 0.58431375],\n",
              "         [0.4509804 , 0.4509804 , 0.4392157 ],\n",
              "         ...,\n",
              "         [0.30980393, 0.32156864, 0.2509804 ],\n",
              "         [0.26666668, 0.27450982, 0.21568628],\n",
              "         [0.2627451 , 0.27058825, 0.21568628]],\n",
              "\n",
              "        ...,\n",
              "\n",
              "        [[0.6862745 , 0.654902  , 0.6509804 ],\n",
              "         [0.6117647 , 0.6039216 , 0.627451  ],\n",
              "         [0.6039216 , 0.627451  , 0.6666667 ],\n",
              "         ...,\n",
              "         [0.16470589, 0.13333334, 0.14117648],\n",
              "         [0.23921569, 0.20784314, 0.22352941],\n",
              "         [0.3647059 , 0.3254902 , 0.35686275]],\n",
              "\n",
              "        [[0.64705884, 0.6039216 , 0.5019608 ],\n",
              "         [0.6117647 , 0.59607846, 0.50980395],\n",
              "         [0.62352943, 0.6313726 , 0.5568628 ],\n",
              "         ...,\n",
              "         [0.40392157, 0.3647059 , 0.3764706 ],\n",
              "         [0.48235294, 0.44705883, 0.47058824],\n",
              "         [0.5137255 , 0.4745098 , 0.5137255 ]],\n",
              "\n",
              "        [[0.6392157 , 0.5803922 , 0.47058824],\n",
              "         [0.61960787, 0.5803922 , 0.47843137],\n",
              "         [0.6392157 , 0.6117647 , 0.52156866],\n",
              "         ...,\n",
              "         [0.56078434, 0.52156866, 0.54509807],\n",
              "         [0.56078434, 0.5254902 , 0.5568628 ],\n",
              "         [0.56078434, 0.52156866, 0.5647059 ]]],\n",
              "\n",
              "\n",
              "       [[[1.        , 1.        , 1.        ],\n",
              "         [0.99215686, 0.99215686, 0.99215686],\n",
              "         [0.99215686, 0.99215686, 0.99215686],\n",
              "         ...,\n",
              "         [0.99215686, 0.99215686, 0.99215686],\n",
              "         [0.99215686, 0.99215686, 0.99215686],\n",
              "         [0.99215686, 0.99215686, 0.99215686]],\n",
              "\n",
              "        [[1.        , 1.        , 1.        ],\n",
              "         [1.        , 1.        , 1.        ],\n",
              "         [1.        , 1.        , 1.        ],\n",
              "         ...,\n",
              "         [1.        , 1.        , 1.        ],\n",
              "         [1.        , 1.        , 1.        ],\n",
              "         [1.        , 1.        , 1.        ]],\n",
              "\n",
              "        [[1.        , 1.        , 1.        ],\n",
              "         [0.99607843, 0.99607843, 0.99607843],\n",
              "         [0.99607843, 0.99607843, 0.99607843],\n",
              "         ...,\n",
              "         [0.99607843, 0.99607843, 0.99607843],\n",
              "         [0.99607843, 0.99607843, 0.99607843],\n",
              "         [0.99607843, 0.99607843, 0.99607843]],\n",
              "\n",
              "        ...,\n",
              "\n",
              "        [[0.44313726, 0.47058824, 0.4392157 ],\n",
              "         [0.43529412, 0.4627451 , 0.43529412],\n",
              "         [0.4117647 , 0.4392157 , 0.41568628],\n",
              "         ...,\n",
              "         [0.28235295, 0.31764707, 0.3137255 ],\n",
              "         [0.28235295, 0.3137255 , 0.30980393],\n",
              "         [0.28235295, 0.3137255 , 0.30980393]],\n",
              "\n",
              "        [[0.43529412, 0.4627451 , 0.43137255],\n",
              "         [0.40784314, 0.43529412, 0.40784314],\n",
              "         [0.3882353 , 0.41568628, 0.38431373],\n",
              "         ...,\n",
              "         [0.26666668, 0.29411766, 0.28627452],\n",
              "         [0.27450982, 0.29803923, 0.29411766],\n",
              "         [0.30588236, 0.32941177, 0.32156864]],\n",
              "\n",
              "        [[0.41568628, 0.44313726, 0.4117647 ],\n",
              "         [0.3882353 , 0.41568628, 0.38431373],\n",
              "         [0.37254903, 0.4       , 0.36862746],\n",
              "         ...,\n",
              "         [0.30588236, 0.33333334, 0.3254902 ],\n",
              "         [0.30980393, 0.33333334, 0.3254902 ],\n",
              "         [0.3137255 , 0.3372549 , 0.32941177]]],\n",
              "\n",
              "\n",
              "       ...,\n",
              "\n",
              "\n",
              "       [[[0.10980392, 0.13725491, 0.15294118],\n",
              "         [0.11764706, 0.13333334, 0.17254902],\n",
              "         [0.12941177, 0.17254902, 0.18431373],\n",
              "         ...,\n",
              "         [0.16862746, 0.21960784, 0.1764706 ],\n",
              "         [0.20392157, 0.2509804 , 0.20784314],\n",
              "         [0.18039216, 0.22745098, 0.18431373]],\n",
              "\n",
              "        [[0.10588235, 0.11764706, 0.14901961],\n",
              "         [0.10588235, 0.10980392, 0.16078432],\n",
              "         [0.08235294, 0.12156863, 0.15294118],\n",
              "         ...,\n",
              "         [0.4392157 , 0.53333336, 0.38039216],\n",
              "         [0.45882353, 0.54901963, 0.39607844],\n",
              "         [0.4509804 , 0.5411765 , 0.39215687]],\n",
              "\n",
              "        [[0.13333334, 0.14117648, 0.16470589],\n",
              "         [0.12941177, 0.12941177, 0.16862746],\n",
              "         [0.09411765, 0.11764706, 0.15686275],\n",
              "         ...,\n",
              "         [0.6862745 , 0.8156863 , 0.56078434],\n",
              "         [0.69411767, 0.81960785, 0.5647059 ],\n",
              "         [0.6901961 , 0.8156863 , 0.56078434]],\n",
              "\n",
              "        ...,\n",
              "\n",
              "        [[0.5568628 , 0.6901961 , 0.4627451 ],\n",
              "         [0.5568628 , 0.6901961 , 0.4627451 ],\n",
              "         [0.5882353 , 0.72156864, 0.49803922],\n",
              "         ...,\n",
              "         [0.5254902 , 0.6862745 , 0.46666667],\n",
              "         [0.5019608 , 0.65882355, 0.4392157 ],\n",
              "         [0.5254902 , 0.6862745 , 0.46666667]],\n",
              "\n",
              "        [[0.54901963, 0.6901961 , 0.4862745 ],\n",
              "         [0.5686275 , 0.7058824 , 0.5058824 ],\n",
              "         [0.5882353 , 0.7294118 , 0.5254902 ],\n",
              "         ...,\n",
              "         [0.5137255 , 0.6666667 , 0.46666667],\n",
              "         [0.50980395, 0.6666667 , 0.46666667],\n",
              "         [0.47843137, 0.63529414, 0.43529412]],\n",
              "\n",
              "        [[0.5254902 , 0.67058825, 0.48235294],\n",
              "         [0.53333336, 0.67058825, 0.4862745 ],\n",
              "         [0.53333336, 0.67058825, 0.4862745 ],\n",
              "         ...,\n",
              "         [0.41568628, 0.5647059 , 0.39215687],\n",
              "         [0.40784314, 0.5568628 , 0.3882353 ],\n",
              "         [0.39607844, 0.54901963, 0.3764706 ]]],\n",
              "\n",
              "\n",
              "       [[[0.5254902 , 0.7294118 , 0.8745098 ],\n",
              "         [0.5137255 , 0.72156864, 0.8627451 ],\n",
              "         [0.5019608 , 0.7137255 , 0.85490197],\n",
              "         ...,\n",
              "         [0.49803922, 0.70980394, 0.87058824],\n",
              "         [0.49803922, 0.70980394, 0.87058824],\n",
              "         [0.5019608 , 0.7137255 , 0.8745098 ]],\n",
              "\n",
              "        [[0.52156866, 0.7411765 , 0.89411765],\n",
              "         [0.5058824 , 0.7294118 , 0.8784314 ],\n",
              "         [0.5019608 , 0.7294118 , 0.8784314 ],\n",
              "         ...,\n",
              "         [0.49803922, 0.7176471 , 0.8784314 ],\n",
              "         [0.49803922, 0.7176471 , 0.8784314 ],\n",
              "         [0.5019608 , 0.72156864, 0.88235295]],\n",
              "\n",
              "        [[0.5019608 , 0.7254902 , 0.8862745 ],\n",
              "         [0.49803922, 0.7137255 , 0.8745098 ],\n",
              "         [0.5019608 , 0.7137255 , 0.8745098 ],\n",
              "         ...,\n",
              "         [0.49411765, 0.70980394, 0.87058824],\n",
              "         [0.49411765, 0.70980394, 0.87058824],\n",
              "         [0.49411765, 0.7058824 , 0.8666667 ]],\n",
              "\n",
              "        ...,\n",
              "\n",
              "        [[0.68235296, 0.8156863 , 0.92156863],\n",
              "         [0.67058825, 0.80784315, 0.8980392 ],\n",
              "         [0.60784316, 0.7411765 , 0.84705883],\n",
              "         ...,\n",
              "         [0.10588235, 0.36862746, 0.53333336],\n",
              "         [0.11372549, 0.3764706 , 0.5372549 ],\n",
              "         [0.10980392, 0.36862746, 0.53333336]],\n",
              "\n",
              "        [[0.7607843 , 0.8666667 , 0.95686275],\n",
              "         [0.7411765 , 0.84313726, 0.9372549 ],\n",
              "         [0.62352943, 0.76862746, 0.88235295],\n",
              "         ...,\n",
              "         [0.11764706, 0.37254903, 0.5411765 ],\n",
              "         [0.11764706, 0.3764706 , 0.54509807],\n",
              "         [0.11764706, 0.37254903, 0.54901963]],\n",
              "\n",
              "        [[0.75686276, 0.8509804 , 0.92941177],\n",
              "         [0.70980394, 0.8156863 , 0.9019608 ],\n",
              "         [0.65882355, 0.7882353 , 0.8901961 ],\n",
              "         ...,\n",
              "         [0.12156863, 0.36862746, 0.53333336],\n",
              "         [0.1254902 , 0.36862746, 0.5372549 ],\n",
              "         [0.1254902 , 0.36862746, 0.5411765 ]]],\n",
              "\n",
              "\n",
              "       [[[0.49019608, 0.49019608, 0.45490196],\n",
              "         [0.43137255, 0.39607844, 0.35686275],\n",
              "         [0.4       , 0.3529412 , 0.3254902 ],\n",
              "         ...,\n",
              "         [0.7921569 , 0.8117647 , 0.8392157 ],\n",
              "         [0.78431374, 0.8039216 , 0.83137256],\n",
              "         [0.7921569 , 0.8156863 , 0.8392157 ]],\n",
              "\n",
              "        [[0.5568628 , 0.57254905, 0.5568628 ],\n",
              "         [0.57254905, 0.5647059 , 0.54509807],\n",
              "         [0.6901961 , 0.6745098 , 0.6666667 ],\n",
              "         ...,\n",
              "         [0.7647059 , 0.7882353 , 0.8039216 ],\n",
              "         [0.7764706 , 0.8039216 , 0.81960785],\n",
              "         [0.8       , 0.827451  , 0.84313726]],\n",
              "\n",
              "        [[0.7058824 , 0.7254902 , 0.7176471 ],\n",
              "         [0.56078434, 0.57254905, 0.57254905],\n",
              "         [0.6117647 , 0.6156863 , 0.6156863 ],\n",
              "         ...,\n",
              "         [0.47843137, 0.43529412, 0.44313726],\n",
              "         [0.54509807, 0.5019608 , 0.5137255 ],\n",
              "         [0.61960787, 0.5764706 , 0.5882353 ]],\n",
              "\n",
              "        ...,\n",
              "\n",
              "        [[0.40784314, 0.32156864, 0.16078432],\n",
              "         [0.39607844, 0.3137255 , 0.15294118],\n",
              "         [0.39607844, 0.31764707, 0.14901961],\n",
              "         ...,\n",
              "         [0.49411765, 0.40392157, 0.2627451 ],\n",
              "         [0.49411765, 0.40392157, 0.27058825],\n",
              "         [0.49019608, 0.39607844, 0.26666668]],\n",
              "\n",
              "        [[0.40784314, 0.31764707, 0.15686275],\n",
              "         [0.4117647 , 0.32941177, 0.16078432],\n",
              "         [0.42745098, 0.34509805, 0.16862746],\n",
              "         ...,\n",
              "         [0.5411765 , 0.44313726, 0.30588236],\n",
              "         [0.5372549 , 0.44313726, 0.3137255 ],\n",
              "         [0.5372549 , 0.4392157 , 0.31764707]],\n",
              "\n",
              "        [[0.4117647 , 0.3254902 , 0.16470589],\n",
              "         [0.42352942, 0.34117648, 0.1764706 ],\n",
              "         [0.4509804 , 0.36862746, 0.19607843],\n",
              "         ...,\n",
              "         [0.56078434, 0.45882353, 0.32156864],\n",
              "         [0.56078434, 0.45490196, 0.32941177],\n",
              "         [0.5647059 , 0.45490196, 0.3372549 ]]]], dtype=float32)"
            ]
          },
          "metadata": {}
        },
        {
          "output_type": "stream",
          "name": "stdout",
          "text": [
            "[[6]\n",
            " [9]\n",
            " [9]\n",
            " [4]\n",
            " [1]\n",
            " [1]\n",
            " [2]\n",
            " [7]\n",
            " [8]\n",
            " [3]]\n"
          ]
        }
      ],
      "source": [
        "display(x_train[:10])\n",
        "print(y_train[:10])"
      ]
    },
    {
      "cell_type": "markdown",
      "metadata": {
        "id": "gN8pFrEos8Wr"
      },
      "source": [
        "## 2. Build the Model <a name=\"build\"></a>\n",
        "Dropout layers are added to the model to choose a random set of units (20%) from the preceding layers and set their output to 0. This is added to the model to prevent overfitting."
      ]
    },
    {
      "cell_type": "code",
      "execution_count": null,
      "metadata": {
        "id": "6GAWSpQiaHwT"
      },
      "outputs": [],
      "source": [
        "def create_mlp_model(input_shape):\n",
        "  input_shape = layers.Input((32, 32, 3))\n",
        "\n",
        "  x = layers.Flatten()(input_shape)\n",
        "  x = layers.Dense(200, activation=\"relu\")(x)\n",
        "  x = layers.Dense(150, activation=\"relu\")(x)\n",
        "  x = layers.Dropout(0.2)(x)\n",
        "\n",
        "  output_layer = layers.Dense(NUM_CLASSES, activation=\"softmax\")(x)\n",
        "\n",
        "  model = models.Model(input_shape, output_layer)\n",
        "\n",
        "  model.summary()\n",
        "  return model"
      ]
    },
    {
      "cell_type": "markdown",
      "metadata": {
        "id": "D5z0BB1_s8Wr"
      },
      "source": [
        "## 3. Train the model <a name=\"train\"></a>\n",
        "The model is compiled with an optimizer (adam) and loss function (sparse_categorical_crossentropy).\n"
      ]
    },
    {
      "cell_type": "code",
      "execution_count": null,
      "metadata": {
        "colab": {
          "base_uri": "https://localhost:8080/",
          "height": 336
        },
        "id": "fZoX6gErs8Ws",
        "outputId": "f9794259-9e56-44da-c131-3d3d42ec6c85"
      },
      "outputs": [
        {
          "output_type": "display_data",
          "data": {
            "text/plain": [
              "\u001b[1mModel: \"functional_1\"\u001b[0m\n"
            ],
            "text/html": [
              "<pre style=\"white-space:pre;overflow-x:auto;line-height:normal;font-family:Menlo,'DejaVu Sans Mono',consolas,'Courier New',monospace\"><span style=\"font-weight: bold\">Model: \"functional_1\"</span>\n",
              "</pre>\n"
            ]
          },
          "metadata": {}
        },
        {
          "output_type": "display_data",
          "data": {
            "text/plain": [
              "┏━━━━━━━━━━━━━━━━━━━━━━━━━━━━━━━━━━━━━━┳━━━━━━━━━━━━━━━━━━━━━━━━━━━━━┳━━━━━━━━━━━━━━━━━┓\n",
              "┃\u001b[1m \u001b[0m\u001b[1mLayer (type)                        \u001b[0m\u001b[1m \u001b[0m┃\u001b[1m \u001b[0m\u001b[1mOutput Shape               \u001b[0m\u001b[1m \u001b[0m┃\u001b[1m \u001b[0m\u001b[1m        Param #\u001b[0m\u001b[1m \u001b[0m┃\n",
              "┡━━━━━━━━━━━━━━━━━━━━━━━━━━━━━━━━━━━━━━╇━━━━━━━━━━━━━━━━━━━━━━━━━━━━━╇━━━━━━━━━━━━━━━━━┩\n",
              "│ input_layer_1 (\u001b[38;5;33mInputLayer\u001b[0m)           │ (\u001b[38;5;45mNone\u001b[0m, \u001b[38;5;34m32\u001b[0m, \u001b[38;5;34m32\u001b[0m, \u001b[38;5;34m3\u001b[0m)           │               \u001b[38;5;34m0\u001b[0m │\n",
              "├──────────────────────────────────────┼─────────────────────────────┼─────────────────┤\n",
              "│ flatten_1 (\u001b[38;5;33mFlatten\u001b[0m)                  │ (\u001b[38;5;45mNone\u001b[0m, \u001b[38;5;34m3072\u001b[0m)                │               \u001b[38;5;34m0\u001b[0m │\n",
              "├──────────────────────────────────────┼─────────────────────────────┼─────────────────┤\n",
              "│ dense_3 (\u001b[38;5;33mDense\u001b[0m)                      │ (\u001b[38;5;45mNone\u001b[0m, \u001b[38;5;34m200\u001b[0m)                 │         \u001b[38;5;34m614,600\u001b[0m │\n",
              "├──────────────────────────────────────┼─────────────────────────────┼─────────────────┤\n",
              "│ dense_4 (\u001b[38;5;33mDense\u001b[0m)                      │ (\u001b[38;5;45mNone\u001b[0m, \u001b[38;5;34m150\u001b[0m)                 │          \u001b[38;5;34m30,150\u001b[0m │\n",
              "├──────────────────────────────────────┼─────────────────────────────┼─────────────────┤\n",
              "│ dropout_1 (\u001b[38;5;33mDropout\u001b[0m)                  │ (\u001b[38;5;45mNone\u001b[0m, \u001b[38;5;34m150\u001b[0m)                 │               \u001b[38;5;34m0\u001b[0m │\n",
              "├──────────────────────────────────────┼─────────────────────────────┼─────────────────┤\n",
              "│ dense_5 (\u001b[38;5;33mDense\u001b[0m)                      │ (\u001b[38;5;45mNone\u001b[0m, \u001b[38;5;34m10\u001b[0m)                  │           \u001b[38;5;34m1,510\u001b[0m │\n",
              "└──────────────────────────────────────┴─────────────────────────────┴─────────────────┘\n"
            ],
            "text/html": [
              "<pre style=\"white-space:pre;overflow-x:auto;line-height:normal;font-family:Menlo,'DejaVu Sans Mono',consolas,'Courier New',monospace\">┏━━━━━━━━━━━━━━━━━━━━━━━━━━━━━━━━━━━━━━┳━━━━━━━━━━━━━━━━━━━━━━━━━━━━━┳━━━━━━━━━━━━━━━━━┓\n",
              "┃<span style=\"font-weight: bold\"> Layer (type)                         </span>┃<span style=\"font-weight: bold\"> Output Shape                </span>┃<span style=\"font-weight: bold\">         Param # </span>┃\n",
              "┡━━━━━━━━━━━━━━━━━━━━━━━━━━━━━━━━━━━━━━╇━━━━━━━━━━━━━━━━━━━━━━━━━━━━━╇━━━━━━━━━━━━━━━━━┩\n",
              "│ input_layer_1 (<span style=\"color: #0087ff; text-decoration-color: #0087ff\">InputLayer</span>)           │ (<span style=\"color: #00d7ff; text-decoration-color: #00d7ff\">None</span>, <span style=\"color: #00af00; text-decoration-color: #00af00\">32</span>, <span style=\"color: #00af00; text-decoration-color: #00af00\">32</span>, <span style=\"color: #00af00; text-decoration-color: #00af00\">3</span>)           │               <span style=\"color: #00af00; text-decoration-color: #00af00\">0</span> │\n",
              "├──────────────────────────────────────┼─────────────────────────────┼─────────────────┤\n",
              "│ flatten_1 (<span style=\"color: #0087ff; text-decoration-color: #0087ff\">Flatten</span>)                  │ (<span style=\"color: #00d7ff; text-decoration-color: #00d7ff\">None</span>, <span style=\"color: #00af00; text-decoration-color: #00af00\">3072</span>)                │               <span style=\"color: #00af00; text-decoration-color: #00af00\">0</span> │\n",
              "├──────────────────────────────────────┼─────────────────────────────┼─────────────────┤\n",
              "│ dense_3 (<span style=\"color: #0087ff; text-decoration-color: #0087ff\">Dense</span>)                      │ (<span style=\"color: #00d7ff; text-decoration-color: #00d7ff\">None</span>, <span style=\"color: #00af00; text-decoration-color: #00af00\">200</span>)                 │         <span style=\"color: #00af00; text-decoration-color: #00af00\">614,600</span> │\n",
              "├──────────────────────────────────────┼─────────────────────────────┼─────────────────┤\n",
              "│ dense_4 (<span style=\"color: #0087ff; text-decoration-color: #0087ff\">Dense</span>)                      │ (<span style=\"color: #00d7ff; text-decoration-color: #00d7ff\">None</span>, <span style=\"color: #00af00; text-decoration-color: #00af00\">150</span>)                 │          <span style=\"color: #00af00; text-decoration-color: #00af00\">30,150</span> │\n",
              "├──────────────────────────────────────┼─────────────────────────────┼─────────────────┤\n",
              "│ dropout_1 (<span style=\"color: #0087ff; text-decoration-color: #0087ff\">Dropout</span>)                  │ (<span style=\"color: #00d7ff; text-decoration-color: #00d7ff\">None</span>, <span style=\"color: #00af00; text-decoration-color: #00af00\">150</span>)                 │               <span style=\"color: #00af00; text-decoration-color: #00af00\">0</span> │\n",
              "├──────────────────────────────────────┼─────────────────────────────┼─────────────────┤\n",
              "│ dense_5 (<span style=\"color: #0087ff; text-decoration-color: #0087ff\">Dense</span>)                      │ (<span style=\"color: #00d7ff; text-decoration-color: #00d7ff\">None</span>, <span style=\"color: #00af00; text-decoration-color: #00af00\">10</span>)                  │           <span style=\"color: #00af00; text-decoration-color: #00af00\">1,510</span> │\n",
              "└──────────────────────────────────────┴─────────────────────────────┴─────────────────┘\n",
              "</pre>\n"
            ]
          },
          "metadata": {}
        },
        {
          "output_type": "display_data",
          "data": {
            "text/plain": [
              "\u001b[1m Total params: \u001b[0m\u001b[38;5;34m646,260\u001b[0m (2.47 MB)\n"
            ],
            "text/html": [
              "<pre style=\"white-space:pre;overflow-x:auto;line-height:normal;font-family:Menlo,'DejaVu Sans Mono',consolas,'Courier New',monospace\"><span style=\"font-weight: bold\"> Total params: </span><span style=\"color: #00af00; text-decoration-color: #00af00\">646,260</span> (2.47 MB)\n",
              "</pre>\n"
            ]
          },
          "metadata": {}
        },
        {
          "output_type": "display_data",
          "data": {
            "text/plain": [
              "\u001b[1m Trainable params: \u001b[0m\u001b[38;5;34m646,260\u001b[0m (2.47 MB)\n"
            ],
            "text/html": [
              "<pre style=\"white-space:pre;overflow-x:auto;line-height:normal;font-family:Menlo,'DejaVu Sans Mono',consolas,'Courier New',monospace\"><span style=\"font-weight: bold\"> Trainable params: </span><span style=\"color: #00af00; text-decoration-color: #00af00\">646,260</span> (2.47 MB)\n",
              "</pre>\n"
            ]
          },
          "metadata": {}
        },
        {
          "output_type": "display_data",
          "data": {
            "text/plain": [
              "\u001b[1m Non-trainable params: \u001b[0m\u001b[38;5;34m0\u001b[0m (0.00 B)\n"
            ],
            "text/html": [
              "<pre style=\"white-space:pre;overflow-x:auto;line-height:normal;font-family:Menlo,'DejaVu Sans Mono',consolas,'Courier New',monospace\"><span style=\"font-weight: bold\"> Non-trainable params: </span><span style=\"color: #00af00; text-decoration-color: #00af00\">0</span> (0.00 B)\n",
              "</pre>\n"
            ]
          },
          "metadata": {}
        }
      ],
      "source": [
        "model = create_mlp_model(input_shape=(32, 32, 3))\n",
        "opt = optimizers.Adam(learning_rate=0.0005)\n",
        "model.compile(\n",
        "    loss=\"sparse_categorical_crossentropy\", optimizer=opt, metrics=[\"accuracy\"]\n",
        ")"
      ]
    },
    {
      "cell_type": "markdown",
      "source": [
        "The MLP model is trained using the fit method and validation split of 20% to help prevent overfitting."
      ],
      "metadata": {
        "id": "rSW186EXvG3-"
      }
    },
    {
      "cell_type": "code",
      "execution_count": null,
      "metadata": {
        "colab": {
          "base_uri": "https://localhost:8080/"
        },
        "collapsed": true,
        "id": "eotJqcNQs8Ws",
        "outputId": "3055fd1d-2063-4533-901a-f4aeac8df3ab"
      },
      "outputs": [
        {
          "output_type": "stream",
          "name": "stdout",
          "text": [
            "Epoch 1/10\n",
            "\u001b[1m1250/1250\u001b[0m \u001b[32m━━━━━━━━━━━━━━━━━━━━\u001b[0m\u001b[37m\u001b[0m \u001b[1m15s\u001b[0m 11ms/step - accuracy: 0.2486 - loss: 2.0388 - val_accuracy: 0.3619 - val_loss: 1.7724\n",
            "Epoch 2/10\n",
            "\u001b[1m1250/1250\u001b[0m \u001b[32m━━━━━━━━━━━━━━━━━━━━\u001b[0m\u001b[37m\u001b[0m \u001b[1m20s\u001b[0m 11ms/step - accuracy: 0.3695 - loss: 1.7590 - val_accuracy: 0.3853 - val_loss: 1.7204\n",
            "Epoch 3/10\n",
            "\u001b[1m1250/1250\u001b[0m \u001b[32m━━━━━━━━━━━━━━━━━━━━\u001b[0m\u001b[37m\u001b[0m \u001b[1m19s\u001b[0m 10ms/step - accuracy: 0.4061 - loss: 1.6763 - val_accuracy: 0.4229 - val_loss: 1.6439\n",
            "Epoch 4/10\n",
            "\u001b[1m1250/1250\u001b[0m \u001b[32m━━━━━━━━━━━━━━━━━━━━\u001b[0m\u001b[37m\u001b[0m \u001b[1m21s\u001b[0m 10ms/step - accuracy: 0.4211 - loss: 1.6237 - val_accuracy: 0.4324 - val_loss: 1.5939\n",
            "Epoch 5/10\n",
            "\u001b[1m1250/1250\u001b[0m \u001b[32m━━━━━━━━━━━━━━━━━━━━\u001b[0m\u001b[37m\u001b[0m \u001b[1m12s\u001b[0m 10ms/step - accuracy: 0.4314 - loss: 1.5896 - val_accuracy: 0.4280 - val_loss: 1.6111\n",
            "Epoch 6/10\n",
            "\u001b[1m1250/1250\u001b[0m \u001b[32m━━━━━━━━━━━━━━━━━━━━\u001b[0m\u001b[37m\u001b[0m \u001b[1m13s\u001b[0m 10ms/step - accuracy: 0.4495 - loss: 1.5391 - val_accuracy: 0.4584 - val_loss: 1.5451\n",
            "Epoch 7/10\n",
            "\u001b[1m1250/1250\u001b[0m \u001b[32m━━━━━━━━━━━━━━━━━━━━\u001b[0m\u001b[37m\u001b[0m \u001b[1m12s\u001b[0m 10ms/step - accuracy: 0.4572 - loss: 1.5166 - val_accuracy: 0.4578 - val_loss: 1.5334\n",
            "Epoch 8/10\n",
            "\u001b[1m1250/1250\u001b[0m \u001b[32m━━━━━━━━━━━━━━━━━━━━\u001b[0m\u001b[37m\u001b[0m \u001b[1m13s\u001b[0m 10ms/step - accuracy: 0.4606 - loss: 1.5049 - val_accuracy: 0.4674 - val_loss: 1.5150\n",
            "Epoch 9/10\n",
            "\u001b[1m1250/1250\u001b[0m \u001b[32m━━━━━━━━━━━━━━━━━━━━\u001b[0m\u001b[37m\u001b[0m \u001b[1m15s\u001b[0m 12ms/step - accuracy: 0.4690 - loss: 1.4790 - val_accuracy: 0.4697 - val_loss: 1.5109\n",
            "Epoch 10/10\n",
            "\u001b[1m1250/1250\u001b[0m \u001b[32m━━━━━━━━━━━━━━━━━━━━\u001b[0m\u001b[37m\u001b[0m \u001b[1m21s\u001b[0m 12ms/step - accuracy: 0.4799 - loss: 1.4609 - val_accuracy: 0.4705 - val_loss: 1.5092\n"
          ]
        }
      ],
      "source": [
        "model_evaluation= model.fit(x_train, y_train, batch_size=32, epochs=10, shuffle=True, validation_split=0.2)"
      ]
    },
    {
      "cell_type": "markdown",
      "metadata": {
        "id": "xlTAZlgEs8Ws"
      },
      "source": [
        "## 4. Evaluation <a name=\"evaluate\"></a>"
      ]
    },
    {
      "cell_type": "code",
      "execution_count": null,
      "metadata": {
        "id": "U5d61NNQs8Ws",
        "colab": {
          "base_uri": "https://localhost:8080/"
        },
        "outputId": "54ef2e88-ba38-4d53-df63-effbdbb33cd8"
      },
      "outputs": [
        {
          "output_type": "stream",
          "name": "stdout",
          "text": [
            "\u001b[1m313/313\u001b[0m \u001b[32m━━━━━━━━━━━━━━━━━━━━\u001b[0m\u001b[37m\u001b[0m \u001b[1m1s\u001b[0m 3ms/step - accuracy: 0.4729 - loss: 1.4805\n"
          ]
        },
        {
          "output_type": "execute_result",
          "data": {
            "text/plain": [
              "[1.4882984161376953, 0.47189998626708984]"
            ]
          },
          "metadata": {},
          "execution_count": 23
        }
      ],
      "source": [
        "model.evaluate(x_test, y_test)"
      ]
    },
    {
      "cell_type": "markdown",
      "source": [
        "## 5. Plotting Results <a name=\"evaluate\"></a>\n",
        "Plotted MLP validation accuracy and training accuracy."
      ],
      "metadata": {
        "id": "UOF4lc6CrptK"
      }
    },
    {
      "cell_type": "code",
      "source": [
        "plt.plot(model_evaluation.history['accuracy'], label = 'Training Accuracy')\n",
        "plt.plot(model_evaluation.history['val_accuracy'], label = 'Validation Accuracy')\n",
        "plt.title('MLP Model Accuracy')\n",
        "plt.xlabel('Epochs')\n",
        "plt.ylabel('Accuracy')\n",
        "plt.legend()\n",
        "plt.show()"
      ],
      "metadata": {
        "colab": {
          "base_uri": "https://localhost:8080/",
          "height": 472
        },
        "id": "DIqu2PFCr2mG",
        "outputId": "d87473ba-a270-4aee-ca68-71cab1513405"
      },
      "execution_count": null,
      "outputs": [
        {
          "output_type": "display_data",
          "data": {
            "text/plain": [
              "<Figure size 640x480 with 1 Axes>"
            ],
            "image/png": "[encoded data removed]"
          },
          "metadata": {}
        }
      ]
    }
  ],
  "metadata": {
    "colab": {
      "provenance": [],
      "authorship_tag": "ABX9TyODaYoriEew75IgaEI0/4vD",
      "include_colab_link": true
    },
    "kernelspec": {
      "display_name": "Python 3",
      "name": "python3"
    },
    "language_info": {
      "name": "python"
    }
  },
  "nbformat": 4,
  "nbformat_minor": 0
}