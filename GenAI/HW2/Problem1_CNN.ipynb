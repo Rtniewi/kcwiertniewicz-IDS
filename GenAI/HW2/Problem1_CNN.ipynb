{
  "cells": [
    {
      "cell_type": "markdown",
      "metadata": {
        "id": "view-in-github",
        "colab_type": "text"
      },
      "source": [
        "<a href=\"https://colab.research.google.com/github/Rtniewi/kcwiertniewicz-IDS/blob/main/Problem1_CNN.ipynb\" target=\"_parent\"><img src=\"https://colab.research.google.com/assets/colab-badge.svg\" alt=\"Open In Colab\"/></a>"
      ]
    },
    {
      "cell_type": "markdown",
      "source": [
        "//***Katrina Cwiertniewicz\n",
        "//*** CSC 330\n",
        "//9/26/2024\n",
        "//Assignment 2: CNN Model\n",
        "####The purpose of this assignment is to compare the performance of a simple Multi_Layer Perceptron (MLP) and a Convolutional Neural Network (CNN) using strides of the CIFAR-10 dataset."
      ],
      "metadata": {
        "id": "8M3myc9rLu8J"
      }
    },
    {
      "cell_type": "code",
      "execution_count": null,
      "metadata": {
        "id": "2d4kliJUhMqt"
      },
      "outputs": [],
      "source": [
        "import numpy as np\n",
        "import matplotlib.pyplot as plt\n",
        "\n",
        "from tensorflow.keras import layers, models, optimizers, utils, datasets"
      ]
    },
    {
      "cell_type": "code",
      "execution_count": null,
      "metadata": {
        "id": "UIQDLODZhMqu"
      },
      "outputs": [],
      "source": [
        "NUM_CLASSES = 10"
      ]
    },
    {
      "cell_type": "markdown",
      "metadata": {
        "id": "pfBULi6hhMqv"
      },
      "source": [
        "## 1. Prepare the Data <a name=\"prepare\"></a>\n",
        "CIFAR-10 dataset is loaded and normalized by dividing by 255.0."
      ]
    },
    {
      "cell_type": "code",
      "execution_count": null,
      "metadata": {
        "id": "fvR6vzOYhMqv"
      },
      "outputs": [],
      "source": [
        "(x_train, y_train), (x_test, y_test) = datasets.cifar10.load_data()"
      ]
    },
    {
      "cell_type": "code",
      "execution_count": null,
      "metadata": {
        "id": "neVx9gmFhMqv"
      },
      "outputs": [],
      "source": [
        "x_train = x_train.astype(\"float32\") / 255.0\n",
        "x_test = x_test.astype(\"float32\") / 255.0"
      ]
    },
    {
      "cell_type": "markdown",
      "source": [
        "## 2. Build the Model <a name=\"build\"></a>\n",
        "The model includes Conv2D, BatchNomalization, ReLU, Flatten, Dense, and Dropout layers.\n"
      ],
      "metadata": {
        "id": "SAJQDyTkNrG5"
      }
    },
    {
      "cell_type": "code",
      "execution_count": null,
      "metadata": {
        "id": "6eS5ce7-hMqw"
      },
      "outputs": [],
      "source": [
        "def create_cnn_model(input_shape):\n",
        "  #######################################################################\n",
        "  # The input layer\n",
        "  # This is the shape of the CIFAR-10 images (32x32 pixels with 3 color channels)\n",
        "  input_shape = layers.Input((32, 32, 3))\n",
        "  #######################################################################\n",
        "\n",
        "  #######################################################################\n",
        "  # The first COV2D layer\n",
        "  #######################################################################\n",
        "  # Output shape: (32, 32, 32)\n",
        "  #     32 filters, 3x3 kernel size, stride of 1, and same padding.\n",
        "  #     The spatial dimensions remain the same (32x32), but the depth increases to 32.\n",
        "  x = layers.Conv2D(filters=32, kernel_size=3, strides=1, padding=\"same\")(\n",
        "      input_shape\n",
        "  )\n",
        "  x = layers.BatchNormalization()(x)\n",
        "  x = layers.ReLU()(x)\n",
        "\n",
        "  #######################################################################\n",
        "  # The second COV2D layer\n",
        "  #######################################################################\n",
        "  # Output shape: (16, 16, 32)\n",
        "  #      32 filters, 3x3 kernel size, stride of 2, and same padding.\n",
        "  #      With a stride of 2, the filter moves 2 pixels at a time, effectively\n",
        "  #      halving the spatial dimensions of the input.\n",
        "  x = layers.Conv2D(filters=32, kernel_size=3, strides=2, padding=\"same\")(x)\n",
        "  x = layers.BatchNormalization()(x)\n",
        "  x = layers.ReLU()(x)\n",
        "\n",
        "\n",
        "  #######################################################################\n",
        "  # The third COV2D layer\n",
        "  # Output shape: (16, 16, 64)\n",
        "  #      64 filters, 3x3 kernel size, stride of 1, and same padding.\n",
        "  #      The spatial dimensions remain the same, but the depth increases to 64.\n",
        "  #######################################################################\n",
        "  x = layers.Conv2D(filters=64, kernel_size=3, strides=1, padding=\"same\")(x)\n",
        "  x = layers.BatchNormalization()(x)\n",
        "  x = layers.ReLU()(x)\n",
        "\n",
        "\n",
        "  #######################################################################\n",
        "  # The fourth COV2D layer\n",
        "  # Output shape: (8, 8, 64)\n",
        "  #        64 filters, 3x3 kernel size, stride of 2, and same padding.\n",
        "  #        The spatial dimensions are reduced by half again.\n",
        "  #######################################################################\n",
        "  x = layers.Conv2D(filters=64, kernel_size=3, strides=2, padding=\"same\")(x)\n",
        "  x = layers.BatchNormalization()(x)\n",
        "  x = layers.ReLU()(x)\n",
        "\n",
        "\n",
        "  #######################################################################\n",
        "  #  Output shape: (4096)\n",
        "  #  Flattens the 8x8x64 tensor into a 4096-dimensional vector.\n",
        "\n",
        "  x = layers.Flatten()(x)\n",
        "  #######################################################################\n",
        "\n",
        "\n",
        "  #######################################################################\n",
        "  # Output shape: (128)\n",
        "  # Fully connected layer with 128 units\n",
        "\n",
        "  x = layers.Dense(128)(x)\n",
        "  x = layers.BatchNormalization()(x)\n",
        "  x = layers.ReLU()(x)\n",
        "  x = layers.Dropout(rate=0.5)(x)\n",
        "\n",
        "\n",
        "  #######################################################################\n",
        "  x = layers.Dense(NUM_CLASSES)(x)\n",
        "  output_layer = layers.Activation(\"softmax\")(x)\n",
        "\n",
        "  #######################################################################\n",
        "  model = models.Model(input_shape, output_layer)\n",
        "\n",
        "  model.summary()"
      ]
    },
    {
      "cell_type": "markdown",
      "metadata": {
        "tags": [],
        "id": "0a3oMB0XhMqw"
      },
      "source": [
        "## 3. Train the model <a name=\"train\"></a>\n",
        "The model is compiled with an optimizer (adam) and loss function (sparse_categorical_crossentropy)."
      ]
    },
    {
      "cell_type": "code",
      "execution_count": null,
      "metadata": {
        "id": "7CEDlwvYhMqx"
      },
      "outputs": [],
      "source": [
        "opt = optimizers.Adam(learning_rate=0.0005)\n",
        "model.compile(\n",
        "    loss=\"sparse_categorical_crossentropy\", optimizer=opt, metrics=[\"accuracy\"]\n",
        ")"
      ]
    },
    {
      "cell_type": "markdown",
      "source": [
        "The MLP model is trained using the fit method and validation split of 20% to help prevent overfitting."
      ],
      "metadata": {
        "id": "JXe_aZ5SPG6X"
      }
    },
    {
      "cell_type": "code",
      "execution_count": null,
      "metadata": {
        "tags": [],
        "id": "7H3k-HOPhMqx",
        "colab": {
          "base_uri": "https://localhost:8080/"
        },
        "outputId": "c6b0f4f9-3f46-4202-f322-7b2265849294"
      },
      "outputs": [
        {
          "output_type": "stream",
          "name": "stdout",
          "text": [
            "Epoch 1/10\n",
            "1563/1563 [==============================] - 35s 22ms/step - loss: 0.2599 - accuracy: 0.9067 - val_loss: 1.6310 - val_accuracy: 0.6502\n",
            "Epoch 2/10\n",
            "1563/1563 [==============================] - 33s 21ms/step - loss: 0.2442 - accuracy: 0.9141 - val_loss: 0.9219 - val_accuracy: 0.7463\n",
            "Epoch 3/10\n",
            "1563/1563 [==============================] - 33s 21ms/step - loss: 0.2305 - accuracy: 0.9187 - val_loss: 1.0384 - val_accuracy: 0.7259\n",
            "Epoch 4/10\n",
            "1563/1563 [==============================] - 33s 21ms/step - loss: 0.2196 - accuracy: 0.9223 - val_loss: 0.9516 - val_accuracy: 0.7483\n",
            "Epoch 5/10\n",
            "1563/1563 [==============================] - 33s 21ms/step - loss: 0.2089 - accuracy: 0.9248 - val_loss: 0.9694 - val_accuracy: 0.7445\n",
            "Epoch 6/10\n",
            "1563/1563 [==============================] - 33s 21ms/step - loss: 0.2078 - accuracy: 0.9266 - val_loss: 0.9673 - val_accuracy: 0.7499\n",
            "Epoch 7/10\n",
            "1563/1563 [==============================] - 34s 21ms/step - loss: 0.1975 - accuracy: 0.9284 - val_loss: 1.2051 - val_accuracy: 0.7216\n",
            "Epoch 8/10\n",
            "1563/1563 [==============================] - 33s 21ms/step - loss: 0.1904 - accuracy: 0.9323 - val_loss: 1.0221 - val_accuracy: 0.7361\n",
            "Epoch 9/10\n",
            "1563/1563 [==============================] - 33s 21ms/step - loss: 0.1851 - accuracy: 0.9346 - val_loss: 1.0721 - val_accuracy: 0.7500\n",
            "Epoch 10/10\n",
            "1563/1563 [==============================] - 33s 21ms/step - loss: 0.1798 - accuracy: 0.9352 - val_loss: 1.0156 - val_accuracy: 0.7504\n"
          ]
        }
      ],
      "source": [
        "model_evaluation = model.fit(\n",
        "    x_train,\n",
        "    y_train,\n",
        "    batch_size=32,\n",
        "    epochs=10,\n",
        "    shuffle=True,\n",
        "    validation_data=(x_test, y_test),\n",
        "    validation_split=0.2,\n",
        ")"
      ]
    },
    {
      "cell_type": "markdown",
      "metadata": {
        "tags": [],
        "id": "LOEqXE9mhMqx"
      },
      "source": [
        "## 4. Evaluation <a name=\"evaluate\"></a>"
      ]
    },
    {
      "cell_type": "code",
      "execution_count": null,
      "metadata": {
        "id": "srKGE0fOhMqx",
        "colab": {
          "base_uri": "https://localhost:8080/"
        },
        "outputId": "c423fc84-6466-4761-a610-3c42b128c764"
      },
      "outputs": [
        {
          "output_type": "stream",
          "name": "stdout",
          "text": [
            "10/10 [==============================] - 1s 86ms/step - loss: 1.0156 - accuracy: 0.7504\n"
          ]
        },
        {
          "output_type": "execute_result",
          "data": {
            "text/plain": [
              "[1.0156488418579102, 0.7504000067710876]"
            ]
          },
          "metadata": {},
          "execution_count": 74
        }
      ],
      "source": [
        "model.evaluate(x_test, y_test, batch_size=1000)"
      ]
    },
    {
      "cell_type": "markdown",
      "source": [
        "## 5. Plotting Results <a name=\"evaluate\"></a>\n",
        "Plotted CNN training accuracy and validation accuracy."
      ],
      "metadata": {
        "id": "nEFbpC7hPup7"
      }
    },
    {
      "cell_type": "code",
      "source": [
        "plt.plot(model_evaluation.history['accuracy'], label = 'Training Accuracy')\n",
        "plt.plot(model_evaluation.history['val_accuracy'], label = 'Validation Accuracy')\n",
        "plt.title('CNN Model Accuracy')\n",
        "plt.xlabel('Epochs')\n",
        "plt.ylabel('Accuracy')\n",
        "plt.legend()\n",
        "plt.show()"
      ],
      "metadata": {
        "colab": {
          "base_uri": "https://localhost:8080/",
          "height": 472
        },
        "id": "CLRi7_FhRYNG",
        "outputId": "ce5652cc-6c9b-4777-e9fa-de0e6406f55b"
      },
      "execution_count": null,
      "outputs": [
        {
          "output_type": "display_data",
          "data": {
            "text/plain": [
              "<Figure size 640x480 with 1 Axes>"
            ],
            "image/png": "[encoded data removed]"
          },
          "metadata": {}
        }
      ]
    }
  ],
  "metadata": {
    "kernelspec": {
      "display_name": "Python 3",
      "name": "python3"
    },
    "language_info": {
      "codemirror_mode": {
        "name": "ipython",
        "version": 3
      },
      "file_extension": ".py",
      "mimetype": "text/x-python",
      "name": "python",
      "nbconvert_exporter": "python",
      "pygments_lexer": "ipython3",
      "version": "3.8.10"
    },
    "vscode": {
      "interpreter": {
        "hash": "31f2aee4e71d21fbe5cf8b01ff0e069b9275f58929596ceb00d14d90e3e16cd6"
      }
    },
    "colab": {
      "provenance": [],
      "gpuType": "V28",
      "include_colab_link": true
    },
    "accelerator": "TPU"
  },
  "nbformat": 4,
  "nbformat_minor": 0
}
