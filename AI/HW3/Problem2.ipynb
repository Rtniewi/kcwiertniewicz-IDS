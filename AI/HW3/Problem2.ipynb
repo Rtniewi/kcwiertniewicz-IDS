{
  "nbformat": 4,
  "nbformat_minor": 0,
  "metadata": {
    "colab": {
      "provenance": [],
      "authorship_tag": "ABX9TyN5UYHPZIxU/RZDth8AY5Rl",
      "include_colab_link": true
    },
    "kernelspec": {
      "name": "python3",
      "display_name": "Python 3"
    },
    "language_info": {
      "name": "python"
    }
  },
  "cells": [
    {
      "cell_type": "markdown",
      "metadata": {
        "id": "view-in-github",
        "colab_type": "text"
      },
      "source": [
        "<a href=\"https://colab.research.google.com/github/Rtniewi/kcwiertniewicz-IDS/blob/main/AI/HW3/Problem2.ipynb\" target=\"_parent\"><img src=\"https://colab.research.google.com/assets/colab-badge.svg\" alt=\"Open In Colab\"/></a>"
      ]
    },
    {
      "cell_type": "markdown",
      "source": [
        "## Katrina Cwiertniewicz\n",
        "###CSC 362\n",
        "###Submission Date : 2/15/2024\n",
        "### Assignment3/Problem2 The purpose of this assignment is to use BFS to discover potentially missing immediate connections in a network.\n",
        "\n"
      ],
      "metadata": {
        "id": "wYQhYUiIb0E0"
      }
    },
    {
      "cell_type": "code",
      "source": [
        "\n",
        "# See https://realpython.com/python-deque/\n",
        "\n",
        "from collections import deque\n",
        "\n",
        "# Start the graph search from root using a doubly-ended queue\n",
        "\n",
        "def PotentialFriends(G, root):\n",
        "\n",
        "    # deque is list-like container with fast appends and pops on either end\n",
        "    visited, queue = set(), deque([root])\n",
        "    visited.add(root)\n",
        "\n",
        "    # Keep exploring as long as the queue is not empty\n",
        "    while queue:\n",
        "\n",
        "        # Dequeue a vertex from queue\n",
        "        vertex = queue.popleft()\n",
        "        print(vertex, end=\" \")\n",
        "\n",
        "        # If not visited, mark it as visited, and enqueue it\n",
        "        for neighbor in G[vertex]:\n",
        "          if neighbor not in visited:\n",
        "            visited.add(neighbor)\n",
        "            queue.appendleft(neighbor)\n",
        "\n",
        "       # To remove visited neighbors and be only left with friends who are not connected\n",
        "        potential_friends = \" \"\n",
        "        for neighbor in G[root]:\n",
        "          if neighbor not in G[root]:\n",
        "            potential_friends.add(neighbor)\n",
        "\n",
        "\n",
        ""
      ],
      "metadata": {
        "id": "Tkjtc7UXoz5M"
      },
      "execution_count": 55,
      "outputs": []
    },
    {
      "cell_type": "code",
      "source": [
        "# Represent the graph using an adjacency list\n",
        "\n",
        "G = {\n",
        "  'Maya' : ['Sophia', 'Maria', 'David'],\n",
        "  'Maria': ['David', 'Adam', 'Maya', 'Sophia'],\n",
        "  'David': ['Maya', 'Maria',],\n",
        "  'Adam' : ['Maria'],\n",
        "  'Sophia': ['Maria', 'Maya']\n",
        "\n",
        "}\n",
        "\n",
        "PotentialFriends(G, 'David')"
      ],
      "metadata": {
        "colab": {
          "base_uri": "https://localhost:8080/"
        },
        "id": "jvWjzyjxpYpX",
        "outputId": "f552c32b-1299-47c5-f6da-7e85d1dc72bf"
      },
      "execution_count": 56,
      "outputs": [
        {
          "output_type": "stream",
          "name": "stdout",
          "text": [
            "David Maria Sophia Adam Maya "
          ]
        }
      ]
    }
  ]
}