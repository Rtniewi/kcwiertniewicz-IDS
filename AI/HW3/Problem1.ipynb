{
  "nbformat": 4,
  "nbformat_minor": 0,
  "metadata": {
    "colab": {
      "provenance": [],
      "authorship_tag": "ABX9TyNOC7PfNprlPcT5lovuijX+",
      "include_colab_link": true
    },
    "kernelspec": {
      "name": "python3",
      "display_name": "Python 3"
    },
    "language_info": {
      "name": "python"
    }
  },
  "cells": [
    {
      "cell_type": "markdown",
      "metadata": {
        "id": "view-in-github",
        "colab_type": "text"
      },
      "source": [
        "<a href=\"https://colab.research.google.com/github/Rtniewi/kcwiertniewicz-IDS/blob/main/AI/HW3/Problem1.ipynb\" target=\"_parent\"><img src=\"https://colab.research.google.com/assets/colab-badge.svg\" alt=\"Open In Colab\"/></a>"
      ]
    },
    {
      "cell_type": "code",
      "execution_count": null,
      "metadata": {
        "id": "61Z9Hy4JZbvs"
      },
      "outputs": [],
      "source": [
        "### Katrina Cwiertniewicz\n",
        "### CSC 362\n",
        "### Submission Date : *****************\n",
        "### Assignment 3/Problem 1: The purpose of this assignemnt is to use a BFS algorithm to return the kth level friend for a given user and graph: Find Friends(G User, k)"
      ]
    },
    {
      "cell_type": "code",
      "source": [
        "from os import name\n",
        "# See https://realpython.com/python-deque/\n",
        "\n",
        "from collections import deque\n",
        "\n",
        "# Start the graph search from root using a doubly-ended queue\n",
        "\n",
        "def FindFriends(G, User, K):\n",
        "\n",
        "    # deque is list-like container with fast appends and pops on either end\n",
        "    visited, queue = set(), deque([root])\n",
        "    visited.add(root)\n",
        "\n",
        "    # Keep exploring as long as the queue is not empty\n",
        "    while queue:\n",
        "\n",
        "        # Dequeue a vertex from queue\n",
        "        vertex = queue.popleft()\n",
        "        print(vertex, end=\" \")\n",
        "\n",
        "        # If not visited, mark it as visited, and enqueue it\n",
        "        for neighbor in graph[vertex]:\n",
        "            if neighbor not in visited:\n",
        "                visited.add(neighbor)\n",
        "                queue.append(neighbor)\n",
        "\n",
        "\n",
        "\n",
        "friends = deque (['Bob','Richard','Rob','Pam','Peter','Roger','Amy','Anna']);\n",
        "level = {'Bob': 0, 'Richard': 1, 'Rob': 1, 'Pam': 1, 'Peter': 2, 'Roger': 2, 'Amy': 3, 'Anna': 3}\n",
        "l = deque(level.values())\n",
        "print(deque(level.values()))\n",
        "\n",
        "### If level input equals level of user, print user with number\n",
        "def FindFriends(G, user, level):\n",
        "    if l.count(level) == True:\n",
        "      print(friends)\n",
        "\n",
        "FindFriends(G, 'Bob', 3)\n",
        "\n",
        "\n"
      ],
      "metadata": {
        "id": "fYFmRJGQiHaE",
        "colab": {
          "base_uri": "https://localhost:8080/"
        },
        "outputId": "957420da-2a73-4032-de01-7b3fbd78feed"
      },
      "execution_count": 9,
      "outputs": [
        {
          "output_type": "stream",
          "name": "stdout",
          "text": [
            "deque([0, 1, 1, 1, 2, 2, 3, 3])\n"
          ]
        }
      ]
    },
    {
      "cell_type": "code",
      "source": [
        "# Represent the graph using an adjacency list\n",
        "\n",
        "G = {\n",
        "  'Bob' : ['Richard','Rob','Pam'],\n",
        "  'Richard' : [],\n",
        "  'Rob' : [],\n",
        "  'Pam' : ['Peter','Roger'],\n",
        "  'Peter' : ['Amy'],\n",
        "  'Roger' : ['Anna'],\n",
        "  'Amy' : [],\n",
        "  'Anna' : [],\n",
        "}\n",
        "\n",
        "\n",
        "FindFriends(G, 'Bob', 0);\n"
      ],
      "metadata": {
        "colab": {
          "base_uri": "https://localhost:8080/"
        },
        "id": "EwdoOlVxqY8h",
        "outputId": "018b847e-dc18-4f24-8908-0dff1384a8b3"
      },
      "execution_count": 8,
      "outputs": [
        {
          "output_type": "stream",
          "name": "stdout",
          "text": [
            "deque(['Bob', 'Richard', 'Rob', 'Pam', 'Peter', 'Roger', 'Amy', 'Anna'])\n"
          ]
        }
      ]
    }
  ]
}