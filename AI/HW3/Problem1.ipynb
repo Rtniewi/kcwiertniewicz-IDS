{
  "nbformat": 4,
  "nbformat_minor": 0,
  "metadata": {
    "colab": {
      "provenance": [],
      "authorship_tag": "ABX9TyNmJLqJK9un2K0UhoHt+sKi",
      "include_colab_link": true
    },
    "kernelspec": {
      "name": "python3",
      "display_name": "Python 3"
    },
    "language_info": {
      "name": "python"
    }
  },
  "cells": [
    {
      "cell_type": "markdown",
      "metadata": {
        "id": "view-in-github",
        "colab_type": "text"
      },
      "source": [
        "<a href=\"https://colab.research.google.com/github/Rtniewi/kcwiertniewicz-IDS/blob/main/AI/HW3/Problem1.ipynb\" target=\"_parent\"><img src=\"https://colab.research.google.com/assets/colab-badge.svg\" alt=\"Open In Colab\"/></a>"
      ]
    },
    {
      "cell_type": "markdown",
      "source": [
        "### Katrina Cwiertniewicz\n",
        "### CSC 362\n",
        "### Submission Date : 2/15/2024\n",
        "### Assignment 3/Problem 1: The purpose of this assignemnt is to use a BFS algorithm to return the kth level friend for a given user and graph: Find Friends(G User, K)"
      ],
      "metadata": {
        "id": "it-nwQ56LAP0"
      }
    },
    {
      "cell_type": "code",
      "source": [
        "\n",
        "# See https://realpython.com/python-deque/\n",
        "\n",
        "from collections import deque\n",
        "\n",
        "# Start the graph search from root using a doubly-ended queue\n",
        "\n",
        "def FindFriends(G, User, K):\n",
        "\n",
        "    # deque is list-like container with fast appends and pops on either end\n",
        "    visited, queue = set(), deque([User])\n",
        "    visited.add(User)\n",
        "\n",
        "    #loop through each level of friends\n",
        "    kth_1 = \" \"\n",
        "    kth_2 = \" \"\n",
        "    kth_3 = \" \"\n",
        "\n",
        "    for i in range(K+1):\n",
        "\n",
        "      if K == 1:\n",
        "        kth_1 += User\n",
        "      if K == 2:\n",
        "        kth_2 += User\n",
        "      if K == 3:\n",
        "        kth_3 += User\n",
        "      break\n",
        "\n",
        "    # Keep exploring as long as the queue is not empty\n",
        "      while queue:\n",
        "\n",
        "        #Look for names of friends on the correct level\n",
        "        if (i == K):\n",
        "          vertex = queue.popleft()\n",
        "          print(vertex, end=\" \")\n",
        "\n",
        "        # If not visited, mark it as visited, and enqueue it\n",
        "          for neighbor in G[vertex]:\n",
        "              if neighbor not in visited:\n",
        "                visited.add(neighbor)\n",
        "                queue.append(neighbor)\n",
        "\n",
        "\n",
        "\n"
      ],
      "metadata": {
        "id": "Tkjtc7UXoz5M"
      },
      "execution_count": 62,
      "outputs": []
    },
    {
      "cell_type": "code",
      "source": [
        "# Represent the graph using an adjacency list\n",
        "\n",
        "G = {\n",
        "  'Bob' : ['Richard','Rob','Pam'],\n",
        "  'Richard' : [],\n",
        "  'Rob' : [],\n",
        "  'Pam' : ['Peter','Roger'],\n",
        "  'Peter' : ['Amy'],\n",
        "  'Roger' : ['Anna'],\n",
        "  'Amy' : [],\n",
        "  'Anna' : [],\n",
        "}\n",
        "\n",
        "\n",
        "#Print k-th level friend for a given user and graph:\n",
        "FindFriends(G, 'Bob', 3)\n"
      ],
      "metadata": {
        "id": "EwdoOlVxqY8h"
      },
      "execution_count": 63,
      "outputs": []
    }
  ]
}