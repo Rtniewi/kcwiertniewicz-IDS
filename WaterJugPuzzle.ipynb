{
  "nbformat": 4,
  "nbformat_minor": 0,
  "metadata": {
    "colab": {
      "provenance": [],
      "authorship_tag": "ABX9TyM0LfbQlJwONodEbAody+Qq",
      "include_colab_link": true
    },
    "kernelspec": {
      "name": "python3",
      "display_name": "Python 3"
    },
    "language_info": {
      "name": "python"
    }
  },
  "cells": [
    {
      "cell_type": "markdown",
      "metadata": {
        "id": "view-in-github",
        "colab_type": "text"
      },
      "source": [
        "<a href=\"https://colab.research.google.com/github/Rtniewi/kcwiertniewicz-IDS/blob/main/WaterJugPuzzle.ipynb\" target=\"_parent\"><img src=\"https://colab.research.google.com/assets/colab-badge.svg\" alt=\"Open In Colab\"/></a>"
      ]
    },
    {
      "cell_type": "markdown",
      "source": [
        "You have two jugs of water, a five litre jug and a three litre jug. You can fill and empty the jugs as much as you want. How can you get exaclty four litres into the five litre jug?\n",
        "\n",
        "       R1    R2    R3    R2    R1    R2\n",
        "(0,0) - (5,0) - (2,3) - (2,0) - (0,2) - (5,2) - (4,3)\n",
        "\n",
        "Start State: (0,0) Goal State: (4,3)"
      ],
      "metadata": {
        "id": "rTlVX1X3Jdr-"
      }
    },
    {
      "cell_type": "code",
      "execution_count": null,
      "metadata": {
        "id": "cJDXEE-mOh3K"
      },
      "outputs": [],
      "source": [
        "\n",
        "class WaterJugPuzzle():\n",
        "\n",
        "    # Model the state using two sets of strings: 5 litre jug and 3 litre jug\n",
        "    def __init__(self):\n",
        "        self.five = 0\n",
        "        self.three = 0\n",
        "        self.five_max = 5\n",
        "        self.three_max = 3\n",
        "\n",
        "    def is_five_jug_in_bounds(self):\n",
        "        if self.five >= 0 and self.five <= 5:\n",
        "          return True\n",
        "\n",
        "    def is_three_jug_in_bounds(self):\n",
        "        if self.three >= 0 and self.three <= 3:\n",
        "          return True\n",
        "\n",
        "    def is_five_jug_empty(self):\n",
        "        if self.five == 0:\n",
        "          return True\n",
        "\n",
        "    def state_ok(self):\n",
        "        return not (self.is_five_jug_in_bounds() or self.is_three_jug_in_bounds())\n",
        "\n",
        "    def save_state(self):\n",
        "        self._five = self.five\n",
        "        self._three = self.three\n",
        "\n",
        "    def undo_state(self):\n",
        "        self.five  = self._five\n",
        "        self.three = self._three\n",
        "\n",
        "\n",
        "    ############################################################################\n",
        "    # Rule 1: Fill 5 litre jug\n",
        "    ############################################################################\n",
        "\n",
        "    def R1_fill_five_jug(self):\n",
        "\n",
        "        self.save_state()\n",
        "\n",
        "        if self.five == 0:\n",
        "            self.five = self.five_max\n",
        "            if not self.state_ok(): self.undo_state()\n",
        "\n",
        "\n",
        "    ############################################################################\n",
        "    # Rule 2: Empty 5 litre jug into 3 litre jug\n",
        "    ############################################################################\n",
        "    def R2_five_jug_to_three_jug(self):\n",
        "\n",
        "        self.save_state()\n",
        "\n",
        "        if self.five == 5 and self.three == 0:\n",
        "            self.five = self.five - 3\n",
        "            self.three = 3\n",
        "\n",
        "        elif self.five == 2 and self.three == 0:\n",
        "            self.five = self.five - 2\n",
        "            self.three = 2\n",
        "\n",
        "        elif self.five == 5 and self.three == 2:\n",
        "            self.five = self.five - 1\n",
        "            self.three = self.three + 1\n",
        "\n",
        "        else: ValueError('5 litre jug not transferred to 3 litre jug in R2_five_jug_to_three_jug.')\n",
        "\n",
        "\n",
        "    ############################################################################\n",
        "    # Rule 3: Empty 3 litre jug\n",
        "    ############################################################################\n",
        "\n",
        "    def R3_empty_three_jug(self):\n",
        "\n",
        "        self.save_state()\n",
        "\n",
        "        if self.three == 3:\n",
        "          self.three = 0\n",
        "          if not self.state_ok(): self.undo_state()\n",
        "\n",
        "        elif self.three == 2:\n",
        "          self.three = 0\n",
        "          if not self.state_ok(): self.undo_state()\n",
        "\n",
        "\n",
        "\n",
        "    ############################################################################\n",
        "    # Invariants\n",
        "    ############################################################################\n",
        "    def five_not_in_bounds(self):\n",
        "        return not self.is_five_jug_in_bounds\n",
        "\n",
        "    def three_not_in_bounds(self):\n",
        "        return not self.is_three_jug_in_bounds\n",
        "\n",
        "    ############################################################################\n",
        "    # Display water jug amounts\n",
        "    ############################################################################\n",
        "    def print_state(self):\n",
        "        print(\"===> five: {s}, three: {h}\".format(s = self.five, h = self.three))\n"
      ]
    },
    {
      "cell_type": "markdown",
      "source": [],
      "metadata": {
        "id": "06L7Ew5EKk-S"
      }
    },
    {
      "cell_type": "code",
      "execution_count": null,
      "metadata": {
        "colab": {
          "base_uri": "https://localhost:8080/"
        },
        "outputId": "a7558e17-c3a9-4a46-d114-de3f31b27eff",
        "id": "I2IB6siGNQ4J"
      },
      "outputs": [
        {
          "output_type": "stream",
          "name": "stdout",
          "text": [
            "===> five: 0, three: 0\n",
            "-----------------\n",
            "===> five: 5, three: 0\n",
            "-----------------\n",
            "===> five: 2, three: 3\n",
            "-----------------\n",
            "===> five: 2, three: 0\n",
            "-----------------\n",
            "===> five: 0, three: 2\n",
            "-----------------\n",
            "===> five: 5, three: 2\n",
            "-----------------\n",
            "===> five: 4, three: 3\n"
          ]
        }
      ],
      "source": [
        "#@title Forming the Solution\n",
        "\n",
        "mcf = WaterJugPuzzle()\n",
        "\n",
        "# print the initial state (start state)\n",
        "mcf.print_state()\n",
        "\n",
        "print(\"-----------------\")\n",
        "# Apply Rule 1 and print resulting state\n",
        "mcf.R1_fill_five_jug()\n",
        "mcf.print_state()\n",
        "\n",
        "print(\"-----------------\")\n",
        "# Apply Rule 2 and print the resulting state\n",
        "mcf.R2_five_jug_to_three_jug()\n",
        "mcf.print_state()\n",
        "\n",
        "print('-----------------')\n",
        "# Apply Rule 3 and print the resulting state\n",
        "mcf.R3_empty_three_jug()\n",
        "mcf.print_state()\n",
        "\n",
        "print('-----------------')\n",
        "# Apply Rule 2 and print the resulting state\n",
        "mcf.R2_five_jug_to_three_jug()\n",
        "mcf.print_state()\n",
        "\n",
        "print('-----------------')\n",
        "# Apply Rule 1 and print the resulting state\n",
        "mcf.R1_fill_five_jug()\n",
        "mcf.print_state()\n",
        "\n",
        "print('-----------------')\n",
        "# Apply Rule 2 and print the resulting state (goal state)\n",
        "mcf.R2_five_jug_to_three_jug()\n",
        "mcf.print_state()\n",
        "\n",
        "\n"
      ]
    }
  ]
}