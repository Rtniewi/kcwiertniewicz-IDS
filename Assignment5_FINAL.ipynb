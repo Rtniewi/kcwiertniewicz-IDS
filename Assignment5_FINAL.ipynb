{
  "cells": [
    {
      "cell_type": "markdown",
      "metadata": {
        "id": "view-in-github",
        "colab_type": "text"
      },
      "source": [
        "<a href=\"https://colab.research.google.com/github/Rtniewi/kcwiertniewicz-IDS/blob/main/Assignment5_FINAL.ipynb\" target=\"_parent\"><img src=\"https://colab.research.google.com/assets/colab-badge.svg\" alt=\"Open In Colab\"/></a>"
      ]
    },
    {
      "cell_type": "markdown",
      "id": "b076bd1a-b236-4fbc-953d-8295b25122ae",
      "metadata": {
        "id": "b076bd1a-b236-4fbc-953d-8295b25122ae"
      },
      "source": [
        "//***Katrina Cwiertniewicz\n",
        "//*** CSC 330\n",
        "//11/--/2024\n",
        "//Assignment 5: Text Generation Using LSTM on Project Gutenberg Training Data\n",
        "####The purpose of this assignment is to develop and LSTM model to generate text. The goal is to producs coherent and stylistically relevant text based on prompts."
      ]
    },
    {
      "cell_type": "code",
      "execution_count": 1,
      "id": "4e0d56cc-4773-4029-97d8-26f882ba79c9",
      "metadata": {
        "id": "4e0d56cc-4773-4029-97d8-26f882ba79c9"
      },
      "outputs": [],
      "source": [
        "import numpy as np\n",
        "import json\n",
        "import re\n",
        "import string\n",
        "\n",
        "import tensorflow as tf\n",
        "from tensorflow.keras import layers, models, callbacks, losses"
      ]
    },
    {
      "cell_type": "markdown",
      "id": "339e6268-ebd7-4feb-86db-1fe7abccdbe5",
      "metadata": {
        "id": "339e6268-ebd7-4feb-86db-1fe7abccdbe5"
      },
      "source": [
        "## 0. Parameters <a name=\"parameters\"></a>"
      ]
    },
    {
      "cell_type": "code",
      "execution_count": 2,
      "id": "2d8352af-343e-4c2e-8c91-95f8bac1c8a1",
      "metadata": {
        "id": "2d8352af-343e-4c2e-8c91-95f8bac1c8a1"
      },
      "outputs": [],
      "source": [
        "VOCAB_SIZE = 10000\n",
        "MAX_LEN = 1000\n",
        "EMBEDDING_DIM = 100\n",
        "N_UNITS = 128\n",
        "VALIDATION_SPLIT = 0.2\n",
        "SEED = 42\n",
        "LOAD_MODEL = False\n",
        "BATCH_SIZE = 32\n",
        "EPOCHS = 50"
      ]
    },
    {
      "cell_type": "markdown",
      "id": "b7716fac-0010-49b0-b98e-53be2259edde",
      "metadata": {
        "id": "b7716fac-0010-49b0-b98e-53be2259edde"
      },
      "source": [
        "## 1. Load the data <a name=\"load\"></a>"
      ]
    },
    {
      "cell_type": "code",
      "source": [
        "from google.colab import drive\n",
        "drive.mount('/content/drive')"
      ],
      "metadata": {
        "id": "IYfoaI_0-BrT",
        "colab": {
          "base_uri": "https://localhost:8080/"
        },
        "outputId": "cacdb160-ba25-4e3d-e5e4-0f8cf113b3e8"
      },
      "id": "IYfoaI_0-BrT",
      "execution_count": 3,
      "outputs": [
        {
          "output_type": "stream",
          "name": "stdout",
          "text": [
            "Mounted at /content/drive\n"
          ]
        }
      ]
    },
    {
      "cell_type": "code",
      "source": [
        "%pwd"
      ],
      "metadata": {
        "id": "0O8-7aHJBSt9",
        "colab": {
          "base_uri": "https://localhost:8080/",
          "height": 36
        },
        "outputId": "f3776618-bf52-41be-f71d-29bf9f450d50"
      },
      "id": "0O8-7aHJBSt9",
      "execution_count": 4,
      "outputs": [
        {
          "output_type": "execute_result",
          "data": {
            "text/plain": [
              "'/content'"
            ],
            "application/vnd.google.colaboratory.intrinsic+json": {
              "type": "string"
            }
          },
          "metadata": {},
          "execution_count": 4
        }
      ]
    },
    {
      "cell_type": "code",
      "source": [
        "import requests\n",
        "import os\n",
        "\n",
        "\n",
        "# List of files for additional texts (e.g., different Edgar Allan Poe Works)\n",
        "file_paths = [\n",
        "  os.path.join('/content/drive/MyDrive/text/The_Tell_Tale_Heart.txt'),            # The Tell Tale Heart\n",
        "  os.path.join('/content/drive/MyDrive/text/The_Cask_of_Amontillado.txt'),        # The Cask of Amontillado\n",
        "  os.path.join('/content/drive/MyDrive/text/The_Raven.txt'),                      # The Raven\n",
        "  os.path.join('/content/drive/MyDrive/text/The_Masque.txt'),                     # The Masque of the Red Death\n",
        "  os.path.join('/content/drive/MyDrive/text/Annabel_Lee.txt'),                    # Annabel Lee\n",
        "  os.path.join('/content/drive/MyDrive/text/Lenore.txt'),                         # Lenore\n",
        "  os.path.join('/content/drive/MyDrive/text/The_Bells.txt'),                      # The Bells\n",
        "  os.path.join('/content/drive/MyDrive/text/The_Black_Cat.txt'),                  # The Black Cat\n",
        "  os.path.join('/content/drive/MyDrive/text/The_Fall_of_the_House_of_Usher.txt'), # The Fall of the House of Usher\n",
        "  os.path.join('/content/drive/MyDrive/text/The_Oval_Portrait.txt'),              # The Oval Portrait\n",
        "  os.path.join('/content/drive/MyDrive/text/The_Pit_and_the_Pendulum.txt'),       # The Pit and the Pendulum\n",
        "  os.path.join('/content/drive/MyDrive/text/The_Premature_Burial.txt'),            # The Premature Burial\n",
        "  os.path.join('/content/drive/MyDrive/text/The_Narrative_of_Arthur_Gordon.txt')  # The Narrative of Arthur Gorden Pym of Nantucket\n",
        "]\n",
        "\n",
        "# Initialize an empty string to hold all text\n",
        "all_text = \"\"\n",
        "\n",
        "# Download each text file and append to all_text\n",
        "for file_path in file_paths:\n",
        "  with open(file_path, 'r') as file:\n",
        "    content = file.read()\n",
        "    text = content\n",
        "    all_text += text + \"\\n\\n\"  # Separate texts by newlines\n",
        "\n",
        "# Save combined text to a single file\n",
        "  with open('/content/combined_poe.txt', \"w\", encoding=\"utf-8\") as file:\n",
        "    file.write(all_text)\n"
      ],
      "metadata": {
        "id": "Jv1lJrcw9TDA"
      },
      "id": "Jv1lJrcw9TDA",
      "execution_count": 5,
      "outputs": []
    },
    {
      "cell_type": "code",
      "source": [
        "# Count the words of text\n",
        "with open('/content/combined_poe.txt', \"r\", encoding=\"utf-8\") as file:\n",
        "  file_content = file.read()\n",
        "  words = file_content.split()\n",
        "  n_words = len(words)\n",
        "print(f\"{n_words} words loaded\")"
      ],
      "metadata": {
        "id": "nTdT6VDvChsA",
        "colab": {
          "base_uri": "https://localhost:8080/"
        },
        "outputId": "82367a8a-35e2-4a69-f43e-e05be266d6ba"
      },
      "id": "nTdT6VDvChsA",
      "execution_count": 6,
      "outputs": [
        {
          "output_type": "stream",
          "name": "stdout",
          "text": [
            "109492 words loaded\n"
          ]
        }
      ]
    },
    {
      "cell_type": "code",
      "source": [
        "# Example Sentence of First Ten Words\n",
        "example_sentence = words[:10]\n",
        "print(f\"Example Sentence: {example_sentence}\")"
      ],
      "metadata": {
        "id": "x6SJtj5WCjn4",
        "colab": {
          "base_uri": "https://localhost:8080/"
        },
        "outputId": "eba6b80e-dd80-4b1b-d4fd-ccb4786fa4d2"
      },
      "id": "x6SJtj5WCjn4",
      "execution_count": 7,
      "outputs": [
        {
          "output_type": "stream",
          "name": "stdout",
          "text": [
            "Example Sentence: ['True!—nervous—very,', 'very', 'dreadfully', 'nervous', 'I', 'had', 'been', 'and', 'am;', 'but']\n"
          ]
        }
      ]
    },
    {
      "cell_type": "markdown",
      "id": "3f871aaf-d873-41c7-8946-e4eef7ac17c1",
      "metadata": {
        "id": "3f871aaf-d873-41c7-8946-e4eef7ac17c1"
      },
      "source": [
        "## 2. Tokenise the data"
      ]
    },
    {
      "cell_type": "code",
      "execution_count": 8,
      "id": "5b2064fb-5dcc-4657-b470-0928d10e2ddc",
      "metadata": {
        "tags": [],
        "id": "5b2064fb-5dcc-4657-b470-0928d10e2ddc"
      },
      "outputs": [],
      "source": [
        "# Pad the punctuation, to treat them as separate 'words'\n",
        "def pad_punctuation(s):\n",
        "    s = re.sub(f\"([{string.punctuation}])\", r\" \\1 \", s)\n",
        "    s = re.sub(\" +\", \" \", s)\n",
        "    return s\n",
        "\n",
        "\n",
        "with open(\"combined_poe.txt\", \"r\", encoding=\"utf-8\") as file:\n",
        "    text_data = [pad_punctuation(line) for line in file]"
      ]
    },
    {
      "cell_type": "code",
      "source": [
        "example_date = text_data[103]\n",
        "print(example_date)"
      ],
      "metadata": {
        "colab": {
          "base_uri": "https://localhost:8080/"
        },
        "id": "7J7d-zODblIQ",
        "outputId": "99dd0cf9-d112-4a18-c7ab-9924671a48e1"
      },
      "id": "7J7d-zODblIQ",
      "execution_count": 9,
      "outputs": [
        {
          "output_type": "stream",
          "name": "stdout",
          "text": [
            "over - acuteness of the sense ? —now , I say , there came to my ears a\n",
            "\n"
          ]
        }
      ]
    },
    {
      "cell_type": "code",
      "execution_count": 10,
      "id": "9834f916-b21a-4104-acc9-f28d3bd7a8c1",
      "metadata": {
        "tags": [],
        "id": "9834f916-b21a-4104-acc9-f28d3bd7a8c1"
      },
      "outputs": [],
      "source": [
        "# Convert to a Tensorflow Dataset\n",
        "text_ds = (\n",
        "    tf.data.Dataset.from_tensor_slices(text_data)\n",
        "    .batch(BATCH_SIZE)\n",
        "    .shuffle(1000)\n",
        ")"
      ]
    },
    {
      "cell_type": "code",
      "execution_count": 11,
      "id": "884c0bcb-0807-45a1-8f7e-a32f2c6fa4de",
      "metadata": {
        "id": "884c0bcb-0807-45a1-8f7e-a32f2c6fa4de"
      },
      "outputs": [],
      "source": [
        "# Create a vectorisation layer\n",
        "VOCAB_SIZE = 10000\n",
        "vectorize_layer = layers.TextVectorization(\n",
        "    standardize=\"lower\",\n",
        "    max_tokens=VOCAB_SIZE,\n",
        "    output_mode=\"int\",\n",
        "    output_sequence_length=MAX_LEN + 1,\n",
        ")"
      ]
    },
    {
      "cell_type": "code",
      "execution_count": 12,
      "id": "4d6dd34a-d905-497b-926a-405380ebcf98",
      "metadata": {
        "id": "4d6dd34a-d905-497b-926a-405380ebcf98",
        "colab": {
          "base_uri": "https://localhost:8080/"
        },
        "outputId": "7e1a2091-c27f-42b9-c62d-95acaebc7084"
      },
      "outputs": [
        {
          "output_type": "stream",
          "name": "stdout",
          "text": [
            "Length of Vocabulary: 10000\n"
          ]
        }
      ],
      "source": [
        "# Adapt the layer to the training set\n",
        "vectorize_layer.adapt(text_ds)\n",
        "vocab = vectorize_layer.get_vocabulary()\n",
        "\n",
        "# Length of Vocabulary\n",
        "print(f\"Length of Vocabulary: {len(vocab)}\")"
      ]
    },
    {
      "cell_type": "code",
      "execution_count": 13,
      "id": "f6c1c7ce-3cf0-40d4-a3dc-ab7090f69f2f",
      "metadata": {
        "id": "f6c1c7ce-3cf0-40d4-a3dc-ab7090f69f2f",
        "colab": {
          "base_uri": "https://localhost:8080/"
        },
        "outputId": "c823cd6f-6d80-4dcf-d13e-34798ec714ab"
      },
      "outputs": [
        {
          "output_type": "stream",
          "name": "stdout",
          "text": [
            "0: i\n",
            "1: was\n",
            "2: -\n",
            "3: that\n",
            "4: it\n",
            "5: with\n",
            "6: had\n",
            "7: my\n",
            "8: as\n",
            "9: we\n",
            "10: which\n",
            "11: he\n",
            "12: at\n",
            "13: for\n",
            "14: from\n",
            "15: his\n",
            "16: this\n",
            "17: by\n",
            "18: ;\n",
            "19: be\n"
          ]
        }
      ],
      "source": [
        "# Display some token:word mappings\n",
        "for i, word in enumerate(vocab[10:30]):\n",
        "    print(f\"{i}: {word}\")"
      ]
    },
    {
      "cell_type": "code",
      "execution_count": 14,
      "id": "1cc30186-7ec6-4eb6-b29a-65df6714d321",
      "metadata": {
        "id": "1cc30186-7ec6-4eb6-b29a-65df6714d321",
        "colab": {
          "base_uri": "https://localhost:8080/"
        },
        "outputId": "83195e6d-6dc2-46ea-a338-0f910fd57fe3"
      },
      "outputs": [
        {
          "output_type": "stream",
          "name": "stdout",
          "text": [
            "[[ 606   54 5581 ...    0    0    0]\n",
            " [  33  765  126 ...    0    0    0]\n",
            " [6589 9109 8929 ...    0    0    0]\n",
            " ...\n",
            " [  35   49   10 ...    0    0    0]\n",
            " [ 124    3  722 ...    0    0    0]\n",
            " [   0    0    0 ...    0    0    0]]\n"
          ]
        }
      ],
      "source": [
        "# Display the same example converted to ints\n",
        "example_tokenised = vectorize_layer(text_data)\n",
        "print(example_tokenised.numpy())"
      ]
    },
    {
      "cell_type": "markdown",
      "id": "8c195efb-84c6-4be0-a989-a7542188ad35",
      "metadata": {
        "id": "8c195efb-84c6-4be0-a989-a7542188ad35"
      },
      "source": [
        "## 3. Create the Training Set"
      ]
    },
    {
      "cell_type": "code",
      "execution_count": 15,
      "id": "740294a1-1a6b-4c89-92f2-036d7d1b788b",
      "metadata": {
        "id": "740294a1-1a6b-4c89-92f2-036d7d1b788b"
      },
      "outputs": [],
      "source": [
        "# Create the training set of text and the same text shifted by one word\n",
        "def prepare_inputs(text):\n",
        "    text = tf.expand_dims(text, -1)\n",
        "    tokenized_sentences = vectorize_layer(text)\n",
        "    x = tokenized_sentences[:, :-1]\n",
        "    y = tokenized_sentences[:, 1:]\n",
        "    return x, y\n",
        "\n",
        "\n",
        "train_ds = text_ds.map(prepare_inputs)"
      ]
    },
    {
      "cell_type": "markdown",
      "id": "aff50401-3abe-4c10-bba8-b35bc13ad7d5",
      "metadata": {
        "tags": [],
        "id": "aff50401-3abe-4c10-bba8-b35bc13ad7d5"
      },
      "source": [
        "## 4. Build the LSTM <a name=\"build\"></a>"
      ]
    },
    {
      "cell_type": "code",
      "execution_count": 16,
      "id": "9230b5bf-b4a8-48d5-b73b-6899a598f296",
      "metadata": {
        "id": "9230b5bf-b4a8-48d5-b73b-6899a598f296",
        "colab": {
          "base_uri": "https://localhost:8080/"
        },
        "outputId": "043a2055-d497-4b61-c1bf-c86fd43817c5"
      },
      "outputs": [
        {
          "output_type": "stream",
          "name": "stdout",
          "text": [
            "Model: \"model\"\n",
            "_________________________________________________________________\n",
            " Layer (type)                Output Shape              Param #   \n",
            "=================================================================\n",
            " input_1 (InputLayer)        [(None, None)]            0         \n",
            "                                                                 \n",
            " embedding (Embedding)       (None, None, 100)         1000000   \n",
            "                                                                 \n",
            " lstm (LSTM)                 (None, None, 128)         117248    \n",
            "                                                                 \n",
            " dense (Dense)               (None, None, 10000)       1290000   \n",
            "                                                                 \n",
            "=================================================================\n",
            "Total params: 2407248 (9.18 MB)\n",
            "Trainable params: 2407248 (9.18 MB)\n",
            "Non-trainable params: 0 (0.00 Byte)\n",
            "_________________________________________________________________\n"
          ]
        }
      ],
      "source": [
        "inputs = layers.Input(shape=(None,), dtype=\"int32\")\n",
        "x = layers.Embedding(VOCAB_SIZE, EMBEDDING_DIM)(inputs)\n",
        "x = layers.LSTM(N_UNITS, return_sequences=True)(x)\n",
        "# x = layers.LSTM(N_UNITS)(x) # return_sequences = False by default\n",
        "outputs = layers.Dense(VOCAB_SIZE, activation=\"softmax\")(x)\n",
        "lstm = models.Model(inputs, outputs)\n",
        "lstm.summary()"
      ]
    },
    {
      "cell_type": "markdown",
      "id": "35b14665-4359-447b-be58-3fd58ba69084",
      "metadata": {
        "id": "35b14665-4359-447b-be58-3fd58ba69084"
      },
      "source": [
        "## 5. Train the LSTM <a name=\"train\"></a>"
      ]
    },
    {
      "cell_type": "code",
      "execution_count": 17,
      "id": "ffb1bd3b-6fd9-4536-973e-6375bbcbf16d",
      "metadata": {
        "id": "ffb1bd3b-6fd9-4536-973e-6375bbcbf16d"
      },
      "outputs": [],
      "source": [
        "loss_fn = losses.SparseCategoricalCrossentropy()\n",
        "lstm.compile(\"adam\", loss_fn)"
      ]
    },
    {
      "cell_type": "code",
      "execution_count": 18,
      "id": "3ddcff5f-829d-4449-99d2-9a3cb68f7d72",
      "metadata": {
        "id": "3ddcff5f-829d-4449-99d2-9a3cb68f7d72"
      },
      "outputs": [],
      "source": [
        "# Create a TextGenerator checkpoint\n",
        "class TextGenerator(callbacks.Callback):\n",
        "    def __init__(self, index_to_word, top_k=10):\n",
        "        self.index_to_word = index_to_word\n",
        "        self.word_to_index = {\n",
        "            word: index for index, word in enumerate(index_to_word)\n",
        "        }  # <1>\n",
        "\n",
        "    def sample_from(self, probs, temperature):  # <2>\n",
        "        probs = probs ** (1 / temperature)\n",
        "        probs = probs / np.sum(probs)\n",
        "        return np.random.choice(len(probs), p=probs), probs\n",
        "\n",
        "    def generate(self, start_prompt, max_tokens, temperature):\n",
        "        start_tokens = [\n",
        "            self.word_to_index.get(x, 1) for x in start_prompt.split()\n",
        "        ]  # <3>\n",
        "        sample_token = None\n",
        "        info = []\n",
        "        while len(start_tokens) < max_tokens and sample_token != 0:  # <4>\n",
        "            x = np.array([start_tokens])\n",
        "            y = self.model.predict(x, verbose=0)  # <5>\n",
        "            sample_token, probs = self.sample_from(y[0][-1], temperature)  # <6>\n",
        "            info.append({\"prompt\": start_prompt, \"word_probs\": probs})\n",
        "            start_tokens.append(sample_token)  # <7>\n",
        "            start_prompt = start_prompt + \" \" + self.index_to_word[sample_token]\n",
        "        print(f\"\\ngenerated text:\\n{start_prompt}\\n\")\n",
        "        return info\n",
        "\n",
        "    def on_epoch_end(self, epoch, logs=None):\n",
        "        self.generate(\"Text:\", max_tokens=10000, temperature=1.0)"
      ]
    },
    {
      "cell_type": "code",
      "source": [
        "# Tokenize starting prompt\n",
        "\n",
        "text_generator = TextGenerator(vocab)"
      ],
      "metadata": {
        "id": "6HBPfZS5k3SB"
      },
      "id": "6HBPfZS5k3SB",
      "execution_count": 19,
      "outputs": []
    },
    {
      "cell_type": "code",
      "execution_count": null,
      "id": "461c2b3e-b5ae-4def-8bd9-e7bab8c63d8e",
      "metadata": {
        "tags": [],
        "colab": {
          "base_uri": "https://localhost:8080/"
        },
        "id": "461c2b3e-b5ae-4def-8bd9-e7bab8c63d8e",
        "outputId": "50a823ac-5d16-4f13-96fa-d27e7dfe0806"
      },
      "outputs": [
        {
          "output_type": "stream",
          "name": "stdout",
          "text": [
            "Epoch 1/50\n",
            "331/331 [==============================] - ETA: 0s - loss: 0.7322\n",
            "generated text:\n",
            "Text: access framework management herein fog chrysalis when eyes the withdrawing exploration \n",
            "\n",
            "331/331 [==============================] - 369s 1s/step - loss: 0.7322\n",
            "Epoch 2/50\n",
            "331/331 [==============================] - ETA: 0s - loss: 0.0845\n",
            "generated text:\n",
            "Text: yield nuts ill opens place—some we cutting . of length have along ! \n",
            "\n",
            "331/331 [==============================] - 362s 1s/step - loss: 0.0845\n",
            "Epoch 3/50\n",
            "331/331 [==============================] - ETA: 0s - loss: 0.0773\n",
            "generated text:\n",
            "Text: night—just liquor peaceable situation having were \n",
            "\n",
            "331/331 [==============================] - 360s 1s/step - loss: 0.0773\n",
            "Epoch 4/50\n",
            "331/331 [==============================] - ETA: 0s - loss: 0.0747\n",
            "generated text:\n",
            "Text: gardener resulted ; hysterics high . several old of on his . . \n",
            "\n",
            "331/331 [==============================] - 361s 1s/step - loss: 0.0747\n",
            "Epoch 5/50\n",
            "331/331 [==============================] - ETA: 0s - loss: 0.0726\n",
            "generated text:\n",
            "Text: archway against the veins with we thick patch , either the our \n",
            "\n",
            "331/331 [==============================] - 361s 1s/step - loss: 0.0726\n",
            "Epoch 6/50\n",
            "331/331 [==============================] - ETA: 0s - loss: 0.0710\n",
            "generated text:\n",
            "Text: luchesi particle , one of and said to sentiment - with we longer \n",
            "\n",
            "331/331 [==============================] - 360s 1s/step - loss: 0.0710\n",
            "Epoch 7/50\n",
            "331/331 [==============================] - ETA: 0s - loss: 0.0690\n",
            "generated text:\n",
            "Text: unnerved—in the paws . were so a it and the head . \n",
            "\n",
            "331/331 [==============================] - 361s 1s/step - loss: 0.0690\n",
            "Epoch 8/50\n",
            "331/331 [==============================] - ETA: 0s - loss: 0.0668\n",
            "generated text:\n",
            "Text: bennet castellated . the alone matter could seemingly \n",
            "\n",
            "331/331 [==============================] - 360s 1s/step - loss: 0.0668\n",
            "Epoch 9/50\n",
            "331/331 [==============================] - ETA: 0s - loss: 0.0648\n",
            "generated text:\n",
            "Text: crowding of many article of cohesion . we might arrived mate us . \n",
            "\n",
            "331/331 [==============================] - 361s 1s/step - loss: 0.0648\n",
            "Epoch 10/50\n",
            "331/331 [==============================] - ETA: 0s - loss: 0.0632\n",
            "generated text:\n",
            "Text: . this rolling another of order that \" tearing \n",
            "\n",
            "331/331 [==============================] - 360s 1s/step - loss: 0.0632\n",
            "Epoch 11/50\n",
            "331/331 [==============================] - ETA: 0s - loss: 0.0619\n",
            "generated text:\n",
            "Text: . the first left of room , as reject a axe on them , of \n",
            "\n",
            "331/331 [==============================] - 361s 1s/step - loss: 0.0619\n",
            "Epoch 12/50\n",
            "331/331 [==============================] - ETA: 0s - loss: 0.0608\n",
            "generated text:\n",
            "Text: , after the third terrestrial sudden more - given near the stations , \n",
            "\n",
            "331/331 [==============================] - 361s 1s/step - loss: 0.0608\n",
            "Epoch 13/50\n",
            "331/331 [==============================] - ETA: 0s - loss: 0.0597\n",
            "generated text:\n",
            "Text: . us we had been clearly at ourselves , exist when the feather \n",
            "\n",
            "331/331 [==============================] - 360s 1s/step - loss: 0.0597\n",
            "Epoch 14/50\n",
            "331/331 [==============================] - ETA: 0s - loss: 0.0587\n",
            "generated text:\n",
            "Text: ; as we would be an more life and thirst lay on a aid as when i it \n",
            "\n",
            "331/331 [==============================] - 362s 1s/step - loss: 0.0587\n",
            "Epoch 15/50\n",
            "331/331 [==============================] - ETA: 0s - loss: 0.0576\n",
            "generated text:\n",
            "Text: enough from the door , but the darty in the whole glass of a vessel it \n",
            "\n",
            "331/331 [==============================] - 360s 1s/step - loss: 0.0576\n",
            "Epoch 16/50\n",
            "331/331 [==============================] - ETA: 0s - loss: 0.0566\n",
            "generated text:\n",
            "Text: of the reality and in her long , and were using the wild \n",
            "\n",
            "331/331 [==============================] - 361s 1s/step - loss: 0.0566\n",
            "Epoch 17/50\n",
            "331/331 [==============================] - ETA: 0s - loss: 0.0555\n",
            "generated text:\n",
            "Text: , and the vault went up to attempt as he had cross the patten of \n",
            "\n",
            "331/331 [==============================] - 361s 1s/step - loss: 0.0555\n",
            "Epoch 18/50\n",
            "331/331 [==============================] - ETA: 0s - loss: 0.0546\n",
            "generated text:\n",
            "Text: . we could not have say to one aperture less feet , and completely \n",
            "\n",
            "331/331 [==============================] - 361s 1s/step - loss: 0.0546\n",
            "Epoch 19/50\n",
            "331/331 [==============================] - ETA: 0s - loss: 0.0535\n",
            "generated text:\n",
            "Text: , and i could no means to been hulk of the yaw thought i walled him \n",
            "\n",
            "331/331 [==============================] - 362s 1s/step - loss: 0.0535\n",
            "Epoch 20/50\n",
            "331/331 [==============================] - ETA: 0s - loss: 0.0525\n",
            "generated text:\n",
            "Text: alterations of the south height ostentatiously i wandering with \n",
            "\n",
            "331/331 [==============================] - 360s 1s/step - loss: 0.0525\n",
            "Epoch 21/50\n",
            "331/331 [==============================] - ETA: 0s - loss: 0.0516\n",
            "generated text:\n",
            "Text: northwardly to him . i saw that ruby ecstatic \n",
            "\n",
            "331/331 [==============================] - 360s 1s/step - loss: 0.0516\n",
            "Epoch 22/50\n",
            "331/331 [==============================] - ETA: 0s - loss: 0.0506\n",
            "generated text:\n",
            "Text: , and leaving stands a or doom materials her off . even , or merciless , \n",
            "\n",
            "331/331 [==============================] - 360s 1s/step - loss: 0.0506\n",
            "Epoch 23/50\n",
            "331/331 [==============================] - ETA: 0s - loss: 0.0496\n",
            "generated text:\n",
            "Text: implore _ , from the forecastle ; these powerful , with that a scanty busying \n",
            "\n",
            "331/331 [==============================] - 360s 1s/step - loss: 0.0496\n",
            "Epoch 24/50\n",
            "331/331 [==============================] - ETA: 0s - loss: 0.0485\n",
            "generated text:\n",
            "Text: . the most incidents of richmond , broken , but that they corvette \n",
            "\n",
            "331/331 [==============================] - 360s 1s/step - loss: 0.0485\n",
            "Epoch 25/50\n",
            "221/331 [===================>..........] - ETA: 1:59 - loss: 0.0473"
          ]
        }
      ],
      "source": [
        "lstm.fit(\n",
        "    train_ds,\n",
        "    epochs=EPOCHS,\n",
        "    callbacks=[text_generator],\n",
        ")"
      ]
    },
    {
      "cell_type": "markdown",
      "id": "d64e02d2-84dc-40c8-8446-40c09adf1e20",
      "metadata": {
        "id": "d64e02d2-84dc-40c8-8446-40c09adf1e20"
      },
      "source": [
        "## 6. Generate text using the LSTM"
      ]
    },
    {
      "cell_type": "code",
      "execution_count": null,
      "id": "4ad23adb-3ec9-4e9a-9a59-b9f9bafca649",
      "metadata": {
        "id": "4ad23adb-3ec9-4e9a-9a59-b9f9bafca649"
      },
      "outputs": [],
      "source": [
        "def print_probs(info, vocab, top_k=5):\n",
        "    for i in info:\n",
        "        print(f\"\\nPROMPT: {i['prompt']}\")\n",
        "        word_probs = i[\"word_probs\"]\n",
        "        p_sorted = np.sort(word_probs)[::-1][:top_k]\n",
        "        i_sorted = np.argsort(word_probs)[::-1][:top_k]\n",
        "        for p, i in zip(p_sorted, i_sorted):\n",
        "            print(f\"{vocab[i]}:   \\t{np.round(100*p,2)}%\")\n",
        "        print(\"--------\\n\")"
      ]
    },
    {
      "cell_type": "code",
      "execution_count": null,
      "id": "562e1fe8-cbcb-438f-9637-2f2a6279c924",
      "metadata": {
        "id": "562e1fe8-cbcb-438f-9637-2f2a6279c924"
      },
      "outputs": [],
      "source": [
        "# Prompt 1: From \"The Raven\"\n",
        "info = text_generator.generate(\n",
        "    \"Once upon a midnight dreary,\", max_tokens=1000, temperature=0.2\n",
        ")"
      ]
    },
    {
      "cell_type": "code",
      "execution_count": null,
      "id": "56356f21-04ac-40e5-94ff-291eca6a7054",
      "metadata": {
        "id": "56356f21-04ac-40e5-94ff-291eca6a7054"
      },
      "outputs": [],
      "source": [
        "print_probs(info, vocab)"
      ]
    },
    {
      "cell_type": "code",
      "execution_count": null,
      "id": "3cf25578-d47c-4b26-8252-fcdf2316a4ac",
      "metadata": {
        "id": "3cf25578-d47c-4b26-8252-fcdf2316a4ac"
      },
      "outputs": [],
      "source": [
        "# Prompt 2: From \"The Tell Tale Heart\"\n",
        "info = text_generator.generate(\n",
        "    \"And have I not told you that what you mistake for\", max_tokens=1000, temperature=0.2\n",
        ")"
      ]
    },
    {
      "cell_type": "code",
      "execution_count": null,
      "id": "9df72866-b483-4489-8e26-d5e1466410fa",
      "metadata": {
        "tags": [],
        "id": "9df72866-b483-4489-8e26-d5e1466410fa"
      },
      "outputs": [],
      "source": [
        "print_probs(info, vocab)"
      ]
    },
    {
      "cell_type": "code",
      "execution_count": null,
      "id": "011cd0e0-956c-4a63-8ec3-f7dfed31764e",
      "metadata": {
        "id": "011cd0e0-956c-4a63-8ec3-f7dfed31764e"
      },
      "outputs": [],
      "source": [
        "# Prompt 3: From the Cask Of\n",
        "info = text_generator.generate(\n",
        "    \"A million candles have burned themselves out. Still I read on.\", max_tokens=1000, temperature=0.2\n",
        ")\n",
        "print_probs(info, vocab)"
      ]
    },
    {
      "cell_type": "code",
      "execution_count": null,
      "metadata": {
        "id": "bWUop9IGipLc"
      },
      "outputs": [],
      "source": [
        "print_probs(info, vocab)"
      ],
      "id": "bWUop9IGipLc"
    }
  ],
  "metadata": {
    "kernelspec": {
      "display_name": "Python 3",
      "name": "python3"
    },
    "language_info": {
      "codemirror_mode": {
        "name": "ipython",
        "version": 3
      },
      "file_extension": ".py",
      "mimetype": "text/x-python",
      "name": "python",
      "nbconvert_exporter": "python",
      "pygments_lexer": "ipython3",
      "version": "3.8.10"
    },
    "colab": {
      "provenance": [],
      "gpuType": "V28",
      "include_colab_link": true
    },
    "accelerator": "TPU"
  },
  "nbformat": 4,
  "nbformat_minor": 5
}